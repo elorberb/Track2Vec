{
 "cells": [
  {
   "cell_type": "code",
   "execution_count": 1,
   "metadata": {},
   "outputs": [],
   "source": [
    "from evaluation.EvalRSRunner import ChallengeDataset\n",
    "\n",
    "import gc\n",
    "import pandas as pd\n",
    "import numpy as np\n",
    "import os\n",
    "import matplotlib.pyplot as plt"
   ]
  },
  {
   "cell_type": "code",
   "execution_count": 2,
   "metadata": {},
   "outputs": [
    {
     "name": "stdout",
     "output_type": "stream",
     "text": [
      "LFM dataset already downloaded. Skipping download.\n",
      "Loading dataset.\n",
      "Generating Train/Test Split.\n",
      "Generating dataset hashes.\n"
     ]
    }
   ],
   "source": [
    "dataset = ChallengeDataset()"
   ]
  },
  {
   "cell_type": "code",
   "execution_count": 3,
   "metadata": {},
   "outputs": [
    {
     "data": {
      "text/plain": [
       "((6869679, 6), (29722, 3))"
      ]
     },
     "execution_count": 3,
     "metadata": {},
     "output_type": "execute_result"
    }
   ],
   "source": [
    "train, test = dataset.get_sample_train_test()\n",
    "train.shape, test.shape"
   ]
  },
  {
   "cell_type": "code",
   "execution_count": 4,
   "metadata": {},
   "outputs": [
    {
     "name": "stdout",
     "output_type": "stream",
     "text": [
      "<class 'pandas.core.frame.DataFrame'>\n",
      "Index: 6869679 entries, 0 to 37926426\n",
      "Data columns (total 6 columns):\n",
      " #   Column            Dtype\n",
      "---  ------            -----\n",
      " 0   user_id           int64\n",
      " 1   artist_id         int64\n",
      " 2   album_id          int64\n",
      " 3   track_id          int64\n",
      " 4   timestamp         int64\n",
      " 5   user_track_count  int64\n",
      "dtypes: int64(6)\n",
      "memory usage: 366.9 MB\n"
     ]
    }
   ],
   "source": [
    "train.info()"
   ]
  },
  {
   "cell_type": "code",
   "execution_count": 5,
   "metadata": {},
   "outputs": [
    {
     "name": "stdout",
     "output_type": "stream",
     "text": [
      "<class 'pandas.core.frame.DataFrame'>\n",
      "Index: 29722 entries, 37926134 to 211\n",
      "Data columns (total 3 columns):\n",
      " #   Column    Non-Null Count  Dtype\n",
      "---  ------    --------------  -----\n",
      " 0   user_id   29722 non-null  int64\n",
      " 1   track_id  29722 non-null  int64\n",
      " 2   fold      29722 non-null  int64\n",
      "dtypes: int64(3)\n",
      "memory usage: 928.8 KB\n"
     ]
    }
   ],
   "source": [
    "test.info()"
   ]
  },
  {
   "cell_type": "code",
   "execution_count": 6,
   "metadata": {},
   "outputs": [],
   "source": [
    "df_tracks = dataset.df_tracks"
   ]
  },
  {
   "cell_type": "code",
   "execution_count": 7,
   "metadata": {},
   "outputs": [
    {
     "data": {
      "text/plain": [
       "(820998, 12)"
      ]
     },
     "execution_count": 7,
     "metadata": {},
     "output_type": "execute_result"
    }
   ],
   "source": [
    "df_tracks.shape"
   ]
  },
  {
   "cell_type": "code",
   "execution_count": 8,
   "metadata": {},
   "outputs": [
    {
     "data": {
      "text/html": [
       "<div>\n",
       "<style scoped>\n",
       "    .dataframe tbody tr th:only-of-type {\n",
       "        vertical-align: middle;\n",
       "    }\n",
       "\n",
       "    .dataframe tbody tr th {\n",
       "        vertical-align: top;\n",
       "    }\n",
       "\n",
       "    .dataframe thead th {\n",
       "        text-align: right;\n",
       "    }\n",
       "</style>\n",
       "<table border=\"1\" class=\"dataframe\">\n",
       "  <thead>\n",
       "    <tr style=\"text-align: right;\">\n",
       "      <th></th>\n",
       "      <th>track</th>\n",
       "      <th>artist_id</th>\n",
       "      <th>artist</th>\n",
       "      <th>albums_id</th>\n",
       "      <th>albums</th>\n",
       "      <th>urlSong</th>\n",
       "      <th>arousal_predicted</th>\n",
       "      <th>valence_predicted</th>\n",
       "      <th>lastfm_id</th>\n",
       "      <th>has_emotion_tags</th>\n",
       "      <th>has_social_tags</th>\n",
       "      <th>isClassic</th>\n",
       "    </tr>\n",
       "    <tr>\n",
       "      <th>track_id</th>\n",
       "      <th></th>\n",
       "      <th></th>\n",
       "      <th></th>\n",
       "      <th></th>\n",
       "      <th></th>\n",
       "      <th></th>\n",
       "      <th></th>\n",
       "      <th></th>\n",
       "      <th></th>\n",
       "      <th></th>\n",
       "      <th></th>\n",
       "      <th></th>\n",
       "    </tr>\n",
       "  </thead>\n",
       "  <tbody>\n",
       "    <tr>\n",
       "      <th>1</th>\n",
       "      <td>A Matter of Time</td>\n",
       "      <td>3</td>\n",
       "      <td>Foo Fighters</td>\n",
       "      <td>[1, 67655, 605875, 682938, 889936, 2797722, 34...</td>\n",
       "      <td>['Wasting Light', 'Wasting Light (Deluxe Versi...</td>\n",
       "      <td>http://lyrics.wikia.com/Foo_Fighters:A_Matter_...</td>\n",
       "      <td>-0.066624</td>\n",
       "      <td>-0.256498</td>\n",
       "      <td>None</td>\n",
       "      <td>None</td>\n",
       "      <td>None</td>\n",
       "      <td>False</td>\n",
       "    </tr>\n",
       "    <tr>\n",
       "      <th>2</th>\n",
       "      <td>Hangar 18</td>\n",
       "      <td>1</td>\n",
       "      <td>Megadeth</td>\n",
       "      <td>[2, 693, 821, 2113, 12071, 13309, 17004, 83531...</td>\n",
       "      <td>['Rust In Peace', 'Countdown To Extinction', '...</td>\n",
       "      <td>http://lyrics.wikia.com/Megadeth:Hangar_18</td>\n",
       "      <td>-0.024426</td>\n",
       "      <td>-0.441335</td>\n",
       "      <td>None</td>\n",
       "      <td>None</td>\n",
       "      <td>None</td>\n",
       "      <td>False</td>\n",
       "    </tr>\n",
       "    <tr>\n",
       "      <th>3</th>\n",
       "      <td>Up the Downstair</td>\n",
       "      <td>4</td>\n",
       "      <td>Porcupine Tree</td>\n",
       "      <td>[84, 116, 13570, 283314, 302086, 303154, 35956...</td>\n",
       "      <td>['Up the Downstair', 'Coma Divine', 'Up The Do...</td>\n",
       "      <td>http://lyrics.wikia.com/Porcupine_Tree:Up_The_...</td>\n",
       "      <td>-0.324860</td>\n",
       "      <td>-0.283030</td>\n",
       "      <td>TRSHLAP128F424880E</td>\n",
       "      <td>True</td>\n",
       "      <td>True</td>\n",
       "      <td>False</td>\n",
       "    </tr>\n",
       "    <tr>\n",
       "      <th>5</th>\n",
       "      <td>Mixtaped</td>\n",
       "      <td>5</td>\n",
       "      <td>No-Man</td>\n",
       "      <td>[5, 7654681]</td>\n",
       "      <td>['Schoolyard Ghosts', 'Schoolyard Ghosts Disc 1']</td>\n",
       "      <td>http://lyrics.wikia.com/No-Man:Mixtaped</td>\n",
       "      <td>0.009914</td>\n",
       "      <td>-0.708832</td>\n",
       "      <td>None</td>\n",
       "      <td>None</td>\n",
       "      <td>None</td>\n",
       "      <td>False</td>\n",
       "    </tr>\n",
       "    <tr>\n",
       "      <th>6</th>\n",
       "      <td>Sounds that I Hear</td>\n",
       "      <td>6</td>\n",
       "      <td>Airbag</td>\n",
       "      <td>[6, 340, 1139848]</td>\n",
       "      <td>['Sounds That I Hear', 'Identity', nan]</td>\n",
       "      <td>None</td>\n",
       "      <td>NaN</td>\n",
       "      <td>NaN</td>\n",
       "      <td>None</td>\n",
       "      <td>None</td>\n",
       "      <td>None</td>\n",
       "      <td>None</td>\n",
       "    </tr>\n",
       "  </tbody>\n",
       "</table>\n",
       "</div>"
      ],
      "text/plain": [
       "                       track  artist_id          artist  \\\n",
       "track_id                                                  \n",
       "1           A Matter of Time          3    Foo Fighters   \n",
       "2                  Hangar 18          1        Megadeth   \n",
       "3           Up the Downstair          4  Porcupine Tree   \n",
       "5                   Mixtaped          5          No-Man   \n",
       "6         Sounds that I Hear          6          Airbag   \n",
       "\n",
       "                                                  albums_id  \\\n",
       "track_id                                                      \n",
       "1         [1, 67655, 605875, 682938, 889936, 2797722, 34...   \n",
       "2         [2, 693, 821, 2113, 12071, 13309, 17004, 83531...   \n",
       "3         [84, 116, 13570, 283314, 302086, 303154, 35956...   \n",
       "5                                              [5, 7654681]   \n",
       "6                                         [6, 340, 1139848]   \n",
       "\n",
       "                                                     albums  \\\n",
       "track_id                                                      \n",
       "1         ['Wasting Light', 'Wasting Light (Deluxe Versi...   \n",
       "2         ['Rust In Peace', 'Countdown To Extinction', '...   \n",
       "3         ['Up the Downstair', 'Coma Divine', 'Up The Do...   \n",
       "5         ['Schoolyard Ghosts', 'Schoolyard Ghosts Disc 1']   \n",
       "6                   ['Sounds That I Hear', 'Identity', nan]   \n",
       "\n",
       "                                                    urlSong  \\\n",
       "track_id                                                      \n",
       "1         http://lyrics.wikia.com/Foo_Fighters:A_Matter_...   \n",
       "2                http://lyrics.wikia.com/Megadeth:Hangar_18   \n",
       "3         http://lyrics.wikia.com/Porcupine_Tree:Up_The_...   \n",
       "5                   http://lyrics.wikia.com/No-Man:Mixtaped   \n",
       "6                                                      None   \n",
       "\n",
       "          arousal_predicted  valence_predicted           lastfm_id  \\\n",
       "track_id                                                             \n",
       "1                 -0.066624          -0.256498                None   \n",
       "2                 -0.024426          -0.441335                None   \n",
       "3                 -0.324860          -0.283030  TRSHLAP128F424880E   \n",
       "5                  0.009914          -0.708832                None   \n",
       "6                       NaN                NaN                None   \n",
       "\n",
       "         has_emotion_tags has_social_tags isClassic  \n",
       "track_id                                             \n",
       "1                    None            None     False  \n",
       "2                    None            None     False  \n",
       "3                    True            True     False  \n",
       "5                    None            None     False  \n",
       "6                    None            None      None  "
      ]
     },
     "execution_count": 8,
     "metadata": {},
     "output_type": "execute_result"
    }
   ],
   "source": [
    "df_tracks.head()"
   ]
  },
  {
   "cell_type": "code",
   "execution_count": 9,
   "metadata": {},
   "outputs": [],
   "source": [
    "df = train[['user_id', 'track_id', 'timestamp', 'user_track_count']].sort_values('timestamp')\n",
    "df = pd.DataFrame(df).join(dataset.df_users, on='user_id', how='left')"
   ]
  },
  {
   "cell_type": "code",
   "execution_count": 10,
   "metadata": {},
   "outputs": [
    {
     "data": {
      "text/html": [
       "<div>\n",
       "<style scoped>\n",
       "    .dataframe tbody tr th:only-of-type {\n",
       "        vertical-align: middle;\n",
       "    }\n",
       "\n",
       "    .dataframe tbody tr th {\n",
       "        vertical-align: top;\n",
       "    }\n",
       "\n",
       "    .dataframe thead th {\n",
       "        text-align: right;\n",
       "    }\n",
       "</style>\n",
       "<table border=\"1\" class=\"dataframe\">\n",
       "  <thead>\n",
       "    <tr style=\"text-align: right;\">\n",
       "      <th></th>\n",
       "      <th>user_id</th>\n",
       "      <th>track_id</th>\n",
       "      <th>timestamp</th>\n",
       "      <th>user_track_count</th>\n",
       "      <th>country</th>\n",
       "      <th>age</th>\n",
       "      <th>gender</th>\n",
       "      <th>playcount</th>\n",
       "      <th>registered_unixtime</th>\n",
       "      <th>country_id</th>\n",
       "      <th>...</th>\n",
       "      <th>relative_le_per_hour14</th>\n",
       "      <th>relative_le_per_hour15</th>\n",
       "      <th>relative_le_per_hour16</th>\n",
       "      <th>relative_le_per_hour17</th>\n",
       "      <th>relative_le_per_hour18</th>\n",
       "      <th>relative_le_per_hour19</th>\n",
       "      <th>relative_le_per_hour20</th>\n",
       "      <th>relative_le_per_hour21</th>\n",
       "      <th>relative_le_per_hour22</th>\n",
       "      <th>relative_le_per_hour23</th>\n",
       "    </tr>\n",
       "  </thead>\n",
       "  <tbody>\n",
       "    <tr>\n",
       "      <th>37508031</th>\n",
       "      <td>2405701</td>\n",
       "      <td>1147113</td>\n",
       "      <td>1113164704</td>\n",
       "      <td>1</td>\n",
       "      <td>None</td>\n",
       "      <td>-1</td>\n",
       "      <td>None</td>\n",
       "      <td>230</td>\n",
       "      <td>1113151438</td>\n",
       "      <td>-1</td>\n",
       "      <td>...</td>\n",
       "      <td>0.0296</td>\n",
       "      <td>0.0329</td>\n",
       "      <td>0.0197</td>\n",
       "      <td>NaN</td>\n",
       "      <td>0.0428</td>\n",
       "      <td>0.0461</td>\n",
       "      <td>0.0691</td>\n",
       "      <td>0.0329</td>\n",
       "      <td>0.1283</td>\n",
       "      <td>0.0921</td>\n",
       "    </tr>\n",
       "    <tr>\n",
       "      <th>37508030</th>\n",
       "      <td>2405701</td>\n",
       "      <td>10722</td>\n",
       "      <td>1113164995</td>\n",
       "      <td>2</td>\n",
       "      <td>None</td>\n",
       "      <td>-1</td>\n",
       "      <td>None</td>\n",
       "      <td>230</td>\n",
       "      <td>1113151438</td>\n",
       "      <td>-1</td>\n",
       "      <td>...</td>\n",
       "      <td>0.0296</td>\n",
       "      <td>0.0329</td>\n",
       "      <td>0.0197</td>\n",
       "      <td>NaN</td>\n",
       "      <td>0.0428</td>\n",
       "      <td>0.0461</td>\n",
       "      <td>0.0691</td>\n",
       "      <td>0.0329</td>\n",
       "      <td>0.1283</td>\n",
       "      <td>0.0921</td>\n",
       "    </tr>\n",
       "    <tr>\n",
       "      <th>37508029</th>\n",
       "      <td>2405701</td>\n",
       "      <td>171719</td>\n",
       "      <td>1113165276</td>\n",
       "      <td>3</td>\n",
       "      <td>None</td>\n",
       "      <td>-1</td>\n",
       "      <td>None</td>\n",
       "      <td>230</td>\n",
       "      <td>1113151438</td>\n",
       "      <td>-1</td>\n",
       "      <td>...</td>\n",
       "      <td>0.0296</td>\n",
       "      <td>0.0329</td>\n",
       "      <td>0.0197</td>\n",
       "      <td>NaN</td>\n",
       "      <td>0.0428</td>\n",
       "      <td>0.0461</td>\n",
       "      <td>0.0691</td>\n",
       "      <td>0.0329</td>\n",
       "      <td>0.1283</td>\n",
       "      <td>0.0921</td>\n",
       "    </tr>\n",
       "    <tr>\n",
       "      <th>37508028</th>\n",
       "      <td>2405701</td>\n",
       "      <td>93031</td>\n",
       "      <td>1113166830</td>\n",
       "      <td>2</td>\n",
       "      <td>None</td>\n",
       "      <td>-1</td>\n",
       "      <td>None</td>\n",
       "      <td>230</td>\n",
       "      <td>1113151438</td>\n",
       "      <td>-1</td>\n",
       "      <td>...</td>\n",
       "      <td>0.0296</td>\n",
       "      <td>0.0329</td>\n",
       "      <td>0.0197</td>\n",
       "      <td>NaN</td>\n",
       "      <td>0.0428</td>\n",
       "      <td>0.0461</td>\n",
       "      <td>0.0691</td>\n",
       "      <td>0.0329</td>\n",
       "      <td>0.1283</td>\n",
       "      <td>0.0921</td>\n",
       "    </tr>\n",
       "    <tr>\n",
       "      <th>37508027</th>\n",
       "      <td>2405701</td>\n",
       "      <td>12590028</td>\n",
       "      <td>1113167111</td>\n",
       "      <td>1</td>\n",
       "      <td>None</td>\n",
       "      <td>-1</td>\n",
       "      <td>None</td>\n",
       "      <td>230</td>\n",
       "      <td>1113151438</td>\n",
       "      <td>-1</td>\n",
       "      <td>...</td>\n",
       "      <td>0.0296</td>\n",
       "      <td>0.0329</td>\n",
       "      <td>0.0197</td>\n",
       "      <td>NaN</td>\n",
       "      <td>0.0428</td>\n",
       "      <td>0.0461</td>\n",
       "      <td>0.0691</td>\n",
       "      <td>0.0329</td>\n",
       "      <td>0.1283</td>\n",
       "      <td>0.0921</td>\n",
       "    </tr>\n",
       "  </tbody>\n",
       "</table>\n",
       "<p>5 rows × 53 columns</p>\n",
       "</div>"
      ],
      "text/plain": [
       "          user_id  track_id   timestamp  user_track_count country  age gender  \\\n",
       "37508031  2405701   1147113  1113164704                 1    None   -1   None   \n",
       "37508030  2405701     10722  1113164995                 2    None   -1   None   \n",
       "37508029  2405701    171719  1113165276                 3    None   -1   None   \n",
       "37508028  2405701     93031  1113166830                 2    None   -1   None   \n",
       "37508027  2405701  12590028  1113167111                 1    None   -1   None   \n",
       "\n",
       "          playcount  registered_unixtime  country_id  ...  \\\n",
       "37508031        230           1113151438          -1  ...   \n",
       "37508030        230           1113151438          -1  ...   \n",
       "37508029        230           1113151438          -1  ...   \n",
       "37508028        230           1113151438          -1  ...   \n",
       "37508027        230           1113151438          -1  ...   \n",
       "\n",
       "          relative_le_per_hour14  relative_le_per_hour15  \\\n",
       "37508031                  0.0296                  0.0329   \n",
       "37508030                  0.0296                  0.0329   \n",
       "37508029                  0.0296                  0.0329   \n",
       "37508028                  0.0296                  0.0329   \n",
       "37508027                  0.0296                  0.0329   \n",
       "\n",
       "          relative_le_per_hour16  relative_le_per_hour17  \\\n",
       "37508031                  0.0197                     NaN   \n",
       "37508030                  0.0197                     NaN   \n",
       "37508029                  0.0197                     NaN   \n",
       "37508028                  0.0197                     NaN   \n",
       "37508027                  0.0197                     NaN   \n",
       "\n",
       "          relative_le_per_hour18  relative_le_per_hour19  \\\n",
       "37508031                  0.0428                  0.0461   \n",
       "37508030                  0.0428                  0.0461   \n",
       "37508029                  0.0428                  0.0461   \n",
       "37508028                  0.0428                  0.0461   \n",
       "37508027                  0.0428                  0.0461   \n",
       "\n",
       "          relative_le_per_hour20  relative_le_per_hour21  \\\n",
       "37508031                  0.0691                  0.0329   \n",
       "37508030                  0.0691                  0.0329   \n",
       "37508029                  0.0691                  0.0329   \n",
       "37508028                  0.0691                  0.0329   \n",
       "37508027                  0.0691                  0.0329   \n",
       "\n",
       "          relative_le_per_hour22  relative_le_per_hour23  \n",
       "37508031                  0.1283                  0.0921  \n",
       "37508030                  0.1283                  0.0921  \n",
       "37508029                  0.1283                  0.0921  \n",
       "37508028                  0.1283                  0.0921  \n",
       "37508027                  0.1283                  0.0921  \n",
       "\n",
       "[5 rows x 53 columns]"
      ]
     },
     "execution_count": 10,
     "metadata": {},
     "output_type": "execute_result"
    }
   ],
   "source": [
    "df.head()"
   ]
  },
  {
   "cell_type": "markdown",
   "metadata": {},
   "source": [
    "playcount data sections"
   ]
  },
  {
   "cell_type": "code",
   "execution_count": 11,
   "metadata": {},
   "outputs": [],
   "source": [
    "# playcount seperation\n",
    "pc_1 = df[df['playcount'] <= 10].groupby(['user_id'], sort=False)['track_id'].agg(list)\n",
    "pc_2 = df[(10 < df['playcount']) & (df['playcount'] <= 100)].groupby(['user_id'], sort=False)['track_id'].agg(list)\n",
    "pc_3 = df[(100 < df['playcount']) & (df['playcount'] <= 1000)].groupby(['user_id'], sort=False)['track_id'].agg(list)\n",
    "pc_4 = df[1000 < df['playcount']].groupby(['user_id'], sort=False)['track_id'].agg(list)\n",
    "\n",
    "\n",
    "# gender seperation\n",
    "p_m = df[df['gender'] == 'm'].groupby(['user_id'], sort=False)['track_id'].agg(list)\n",
    "p_f = df[df['gender'] == 'f'].groupby(['user_id'], sort=False)['track_id'].agg(list)\n",
    "p_n = df[(df['gender'] != 'm') & (df['gender'] != 'f')].groupby(['user_id'], sort=False)['track_id'].agg(list)\n",
    "\n",
    "\n",
    "# user_track_count seperation\n",
    "df_trackid = df.groupby(['user_id'], sort=False)['track_id'].agg(list)\n",
    "df = pd.DataFrame(df_trackid).join(df.groupby('user_id', as_index=True, sort=False)[['user_track_count']].sum(), on='user_id', how='left')\n",
    "df = pd.DataFrame(df).join(dataset.df_users, on='user_id', how='left')\n",
    "\n",
    "tc_1 = df[df['user_track_count'] <= 100]['track_id']\n",
    "tc_2 = df[(100 < df['user_track_count']) & (df['user_track_count'] <= 1000)]['track_id']\n",
    "tc_3 = df[1000 < df['user_track_count']]['track_id']"
   ]
  },
  {
   "cell_type": "markdown",
   "metadata": {},
   "source": [
    "### Prepare data for BILSTM model"
   ]
  },
  {
   "cell_type": "code",
   "execution_count": 27,
   "metadata": {},
   "outputs": [],
   "source": [
    "# Assuming df_tracks has track_id as its index\n",
    "unique_track_ids = df_tracks.index.unique()\n",
    "track_id_to_token = {track_id: i for i, track_id in enumerate(unique_track_ids)}\n",
    "token_to_track_id = {i: track_id for track_id, i in track_id_to_token.items()}\n",
    "\n",
    "# Update vocab_size to reflect the number of unique tracks\n",
    "vocab_size = len(unique_track_ids)\n"
   ]
  },
  {
   "cell_type": "code",
   "execution_count": 28,
   "metadata": {},
   "outputs": [],
   "source": [
    "from tensorflow.keras.preprocessing.sequence import pad_sequences\n",
    "from sklearn.model_selection import train_test_split\n",
    "import numpy as np\n",
    "\n",
    "sequences = list(pc_1.tolist())  # Assuming pc_1 is your series of track ID lists\n",
    "\n",
    "# Step 2: Create input-target pairs\n",
    "X, y = [], []\n",
    "\n",
    "for sequence in sequences:\n",
    "    for i in range(1, len(sequence)):\n",
    "        X.append(sequence[:i])\n",
    "        y.append(sequence[i])\n",
    "\n",
    "# Step 3: Determine the max sequence length for padding; you might adjust this based on your model's capacity\n",
    "max_sequence_length = max(len(x) for x in X)\n",
    "vocab_size = len(df_tracks)\n",
    "\n",
    "# Step 4: Pad sequences\n",
    "X_padded = pad_sequences(X, maxlen=max_sequence_length)\n",
    "\n",
    "# Convert y to numpy array for compatibility with sklearn functions\n",
    "y = np.array(y)\n",
    "\n",
    "# Split the data into training and validation sets\n",
    "X_train, X_val, y_train, y_val = train_test_split(X_padded, y, test_size=0.2, random_state=42)"
   ]
  },
  {
   "cell_type": "code",
   "execution_count": 30,
   "metadata": {},
   "outputs": [],
   "source": [
    "# Function to update sequences with tokens\n",
    "def update_sequences_with_tokens(sequences, mapping):\n",
    "    return [[mapping.get(track_id, 0) for track_id in sequence] for sequence in sequences]\n",
    "\n",
    "# Update X_train and X_val sequences\n",
    "X_train_tokens = update_sequences_with_tokens(X_train, track_id_to_token)\n",
    "X_val_tokens = update_sequences_with_tokens(X_val, track_id_to_token)\n",
    "\n",
    "# For y_train and y_val, you can directly apply the mapping since they're single IDs and not sequences\n",
    "y_train_tokens = np.array([track_id_to_token[track_id] for track_id in y_train])\n",
    "y_val_tokens = np.array([track_id_to_token[track_id] for track_id in y_val])\n",
    "\n",
    "# Don't forget to pad the sequences again if necessary\n",
    "X_train_padded = pad_sequences(X_train_tokens, maxlen=max_sequence_length)\n",
    "X_val_padded = pad_sequences(X_val_tokens, maxlen=max_sequence_length)\n"
   ]
  },
  {
   "cell_type": "markdown",
   "metadata": {},
   "source": [
    "### Define BILSTM Model"
   ]
  },
  {
   "cell_type": "code",
   "execution_count": 65,
   "metadata": {},
   "outputs": [
    {
     "data": {
      "text/html": [
       "<pre style=\"white-space:pre;overflow-x:auto;line-height:normal;font-family:Menlo,'DejaVu Sans Mono',consolas,'Courier New',monospace\"><span style=\"font-weight: bold\">Model: \"sequential_4\"</span>\n",
       "</pre>\n"
      ],
      "text/plain": [
       "\u001b[1mModel: \"sequential_4\"\u001b[0m\n"
      ]
     },
     "metadata": {},
     "output_type": "display_data"
    },
    {
     "data": {
      "text/html": [
       "<pre style=\"white-space:pre;overflow-x:auto;line-height:normal;font-family:Menlo,'DejaVu Sans Mono',consolas,'Courier New',monospace\">┏━━━━━━━━━━━━━━━━━━━━━━━━━━━━━━━━━┳━━━━━━━━━━━━━━━━━━━━━━━━┳━━━━━━━━━━━━━━━┓\n",
       "┃<span style=\"font-weight: bold\"> Layer (type)                    </span>┃<span style=\"font-weight: bold\"> Output Shape           </span>┃<span style=\"font-weight: bold\">       Param # </span>┃\n",
       "┡━━━━━━━━━━━━━━━━━━━━━━━━━━━━━━━━━╇━━━━━━━━━━━━━━━━━━━━━━━━╇━━━━━━━━━━━━━━━┩\n",
       "│ embedding_4 (<span style=\"color: #0087ff; text-decoration-color: #0087ff\">Embedding</span>)         │ (<span style=\"color: #00d7ff; text-decoration-color: #00d7ff\">None</span>, <span style=\"color: #00af00; text-decoration-color: #00af00\">403</span>, <span style=\"color: #00af00; text-decoration-color: #00af00\">100</span>)       │    <span style=\"color: #00af00; text-decoration-color: #00af00\">82,099,800</span> │\n",
       "├─────────────────────────────────┼────────────────────────┼───────────────┤\n",
       "│ dropout (<span style=\"color: #0087ff; text-decoration-color: #0087ff\">Dropout</span>)               │ (<span style=\"color: #00d7ff; text-decoration-color: #00d7ff\">None</span>, <span style=\"color: #00af00; text-decoration-color: #00af00\">403</span>, <span style=\"color: #00af00; text-decoration-color: #00af00\">100</span>)       │             <span style=\"color: #00af00; text-decoration-color: #00af00\">0</span> │\n",
       "├─────────────────────────────────┼────────────────────────┼───────────────┤\n",
       "│ bidirectional_4 (<span style=\"color: #0087ff; text-decoration-color: #0087ff\">Bidirectional</span>) │ (<span style=\"color: #00d7ff; text-decoration-color: #00d7ff\">None</span>, <span style=\"color: #00af00; text-decoration-color: #00af00\">256</span>)            │       <span style=\"color: #00af00; text-decoration-color: #00af00\">234,496</span> │\n",
       "├─────────────────────────────────┼────────────────────────┼───────────────┤\n",
       "│ dense_4 (<span style=\"color: #0087ff; text-decoration-color: #0087ff\">Dense</span>)                 │ (<span style=\"color: #00d7ff; text-decoration-color: #00d7ff\">None</span>, <span style=\"color: #00af00; text-decoration-color: #00af00\">820998</span>)         │   <span style=\"color: #00af00; text-decoration-color: #00af00\">210,996,486</span> │\n",
       "└─────────────────────────────────┴────────────────────────┴───────────────┘\n",
       "</pre>\n"
      ],
      "text/plain": [
       "┏━━━━━━━━━━━━━━━━━━━━━━━━━━━━━━━━━┳━━━━━━━━━━━━━━━━━━━━━━━━┳━━━━━━━━━━━━━━━┓\n",
       "┃\u001b[1m \u001b[0m\u001b[1mLayer (type)                   \u001b[0m\u001b[1m \u001b[0m┃\u001b[1m \u001b[0m\u001b[1mOutput Shape          \u001b[0m\u001b[1m \u001b[0m┃\u001b[1m \u001b[0m\u001b[1m      Param #\u001b[0m\u001b[1m \u001b[0m┃\n",
       "┡━━━━━━━━━━━━━━━━━━━━━━━━━━━━━━━━━╇━━━━━━━━━━━━━━━━━━━━━━━━╇━━━━━━━━━━━━━━━┩\n",
       "│ embedding_4 (\u001b[38;5;33mEmbedding\u001b[0m)         │ (\u001b[38;5;45mNone\u001b[0m, \u001b[38;5;34m403\u001b[0m, \u001b[38;5;34m100\u001b[0m)       │    \u001b[38;5;34m82,099,800\u001b[0m │\n",
       "├─────────────────────────────────┼────────────────────────┼───────────────┤\n",
       "│ dropout (\u001b[38;5;33mDropout\u001b[0m)               │ (\u001b[38;5;45mNone\u001b[0m, \u001b[38;5;34m403\u001b[0m, \u001b[38;5;34m100\u001b[0m)       │             \u001b[38;5;34m0\u001b[0m │\n",
       "├─────────────────────────────────┼────────────────────────┼───────────────┤\n",
       "│ bidirectional_4 (\u001b[38;5;33mBidirectional\u001b[0m) │ (\u001b[38;5;45mNone\u001b[0m, \u001b[38;5;34m256\u001b[0m)            │       \u001b[38;5;34m234,496\u001b[0m │\n",
       "├─────────────────────────────────┼────────────────────────┼───────────────┤\n",
       "│ dense_4 (\u001b[38;5;33mDense\u001b[0m)                 │ (\u001b[38;5;45mNone\u001b[0m, \u001b[38;5;34m820998\u001b[0m)         │   \u001b[38;5;34m210,996,486\u001b[0m │\n",
       "└─────────────────────────────────┴────────────────────────┴───────────────┘\n"
      ]
     },
     "metadata": {},
     "output_type": "display_data"
    },
    {
     "data": {
      "text/html": [
       "<pre style=\"white-space:pre;overflow-x:auto;line-height:normal;font-family:Menlo,'DejaVu Sans Mono',consolas,'Courier New',monospace\"><span style=\"font-weight: bold\"> Total params: </span><span style=\"color: #00af00; text-decoration-color: #00af00\">293,330,782</span> (1.09 GB)\n",
       "</pre>\n"
      ],
      "text/plain": [
       "\u001b[1m Total params: \u001b[0m\u001b[38;5;34m293,330,782\u001b[0m (1.09 GB)\n"
      ]
     },
     "metadata": {},
     "output_type": "display_data"
    },
    {
     "data": {
      "text/html": [
       "<pre style=\"white-space:pre;overflow-x:auto;line-height:normal;font-family:Menlo,'DejaVu Sans Mono',consolas,'Courier New',monospace\"><span style=\"font-weight: bold\"> Trainable params: </span><span style=\"color: #00af00; text-decoration-color: #00af00\">293,330,782</span> (1.09 GB)\n",
       "</pre>\n"
      ],
      "text/plain": [
       "\u001b[1m Trainable params: \u001b[0m\u001b[38;5;34m293,330,782\u001b[0m (1.09 GB)\n"
      ]
     },
     "metadata": {},
     "output_type": "display_data"
    },
    {
     "data": {
      "text/html": [
       "<pre style=\"white-space:pre;overflow-x:auto;line-height:normal;font-family:Menlo,'DejaVu Sans Mono',consolas,'Courier New',monospace\"><span style=\"font-weight: bold\"> Non-trainable params: </span><span style=\"color: #00af00; text-decoration-color: #00af00\">0</span> (0.00 B)\n",
       "</pre>\n"
      ],
      "text/plain": [
       "\u001b[1m Non-trainable params: \u001b[0m\u001b[38;5;34m0\u001b[0m (0.00 B)\n"
      ]
     },
     "metadata": {},
     "output_type": "display_data"
    }
   ],
   "source": [
    "from tensorflow.keras.models import Sequential\n",
    "from tensorflow.keras.layers import Embedding, Bidirectional, LSTM, Dense, Dropout\n",
    "from tensorflow.keras.optimizers import Adam\n",
    "\n",
    "model = Sequential([\n",
    "    Embedding(input_dim=vocab_size, output_dim=100, input_shape=(max_sequence_length,)),\n",
    "    Dropout(0.2),  # Dropout for input layer\n",
    "    Bidirectional(LSTM(128, dropout=0.2, recurrent_dropout=0.2)),  # Adding dropout to LSTM\n",
    "    Dense(vocab_size, activation='softmax')\n",
    "])\n",
    "\n",
    "# Customizing the learning rate\n",
    "optimizer = Adam(learning_rate=0.001)  # You might want to experiment with different rates\n",
    "\n",
    "model.compile(optimizer=optimizer, loss='sparse_categorical_crossentropy', metrics=['accuracy'])\n",
    "model.summary()\n"
   ]
  },
  {
   "cell_type": "code",
   "execution_count": 67,
   "metadata": {},
   "outputs": [
    {
     "name": "stdout",
     "output_type": "stream",
     "text": [
      "\u001b[1m57/57\u001b[0m \u001b[32m━━━━━━━━━━━━━━━━━━━━\u001b[0m\u001b[37m\u001b[0m \u001b[1m141s\u001b[0m 2s/step - accuracy: 0.0000e+00 - loss: 13.4183 - val_accuracy: 0.0000e+00 - val_loss: 14.6505\n"
     ]
    }
   ],
   "source": [
    "# Train the model\n",
    "history = model.fit(\n",
    "    X_train_padded, y_train_tokens,\n",
    "    batch_size=32,  # You can adjust the batch size\n",
    "    epochs=1,      # And the number of epochs according to your dataset and how the training progresses\n",
    "    validation_data=(X_val_padded, y_val_tokens)\n",
    ")\n"
   ]
  },
  {
   "cell_type": "code",
   "execution_count": 68,
   "metadata": {},
   "outputs": [
    {
     "data": {
      "text/plain": [
       "{'accuracy': [0.0],\n",
       " 'loss': [13.319997787475586],\n",
       " 'val_accuracy': [0.0],\n",
       " 'val_loss': [14.650463104248047]}"
      ]
     },
     "execution_count": 68,
     "metadata": {},
     "output_type": "execute_result"
    }
   ],
   "source": [
    "history.history"
   ]
  },
  {
   "cell_type": "code",
   "execution_count": 57,
   "metadata": {},
   "outputs": [
    {
     "name": "stdout",
     "output_type": "stream",
     "text": [
      "Training Accuracy: 0.0240, Validation Accuracy: 0.0000\n"
     ]
    }
   ],
   "source": [
    "train_loss, train_acc = model.evaluate(X_train_padded, y_train_tokens, verbose=0)\n",
    "val_loss, val_acc = model.evaluate(X_val_padded, y_val_tokens, verbose=0)\n",
    "print(f\"Training Accuracy: {train_acc:.4f}, Validation Accuracy: {val_acc:.4f}\")"
   ]
  },
  {
   "cell_type": "code",
   "execution_count": 72,
   "metadata": {},
   "outputs": [],
   "source": [
    "def prepare_input_sequence(sequence, track_id_to_token, max_sequence_length):\n",
    "    # Map track IDs to tokens\n",
    "    token_sequence = [track_id_to_token.get(track_id, 0) for track_id in sequence]\n",
    "    # Pad the sequence\n",
    "    padded_sequence = pad_sequences([token_sequence], maxlen=max_sequence_length, padding='pre')\n",
    "    return padded_sequence\n",
    "\n",
    "def predict_next_track(model, sequence, token_to_track_id):\n",
    "    # Assuming `sequence` is already prepared and padded\n",
    "    predictions = model.predict(sequence)\n",
    "    # Get the token with the highest probability\n",
    "    next_token = np.argmax(predictions, axis=1)[0]\n",
    "    # Map the token back to the original track ID\n",
    "    next_track_id = token_to_track_id[next_token]\n",
    "    return next_track_id\n",
    "\n",
    "def predict_next_n_tracks(model, sequence, token_to_track_id, n=5):\n",
    "    # Initial sequence to start predictions\n",
    "    current_sequence = sequence.copy()\n",
    "    \n",
    "    # Store the predicted track IDs\n",
    "    predicted_tracks = []\n",
    "    \n",
    "    for _ in range(n):\n",
    "        # Prepare the sequence for model input\n",
    "        prepared_sequence = pad_sequences([current_sequence], maxlen=max_sequence_length)\n",
    "        \n",
    "        # Predict the next track\n",
    "        predictions = model.predict(prepared_sequence, verbose=0)\n",
    "        next_token = np.argmax(predictions, axis=1)[0]\n",
    "        next_track_id = token_to_track_id[next_token]\n",
    "        \n",
    "        # Append the predicted track ID to the list of predicted tracks\n",
    "        predicted_tracks.append(next_track_id)\n",
    "        \n",
    "        # Update the sequence with the predicted track ID\n",
    "        current_sequence.append(next_token)\n",
    "        \n",
    "        # Optionally, remove the first token to maintain sequence length\n",
    "        current_sequence = current_sequence[1:]\n",
    "    \n",
    "    return predicted_tracks\n"
   ]
  },
  {
   "cell_type": "code",
   "execution_count": 73,
   "metadata": {},
   "outputs": [
    {
     "name": "stdout",
     "output_type": "stream",
     "text": [
      "Next Track IDs: [24841, 24841, 24841, 24841, 24841]\n"
     ]
    }
   ],
   "source": [
    "# Example sequence of track IDs\n",
    "starting_sequence = pc_1.iloc[5]\n",
    "n_predictions=5\n",
    "\n",
    "# Predict the next track ID\n",
    "predicted_track_ids = predict_next_n_tracks(model, starting_sequence, token_to_track_id, n=n_predictions)\n",
    "\n",
    "\n",
    "print(f\"Next Track IDs: {predicted_track_ids}\")\n"
   ]
  },
  {
   "cell_type": "code",
   "execution_count": 12,
   "metadata": {},
   "outputs": [
    {
     "data": {
      "text/plain": [
       "{'pc_1': 2217,\n",
       " 'pc_2': 42889,\n",
       " 'pc_3': 213735,\n",
       " 'pc_4': 227095,\n",
       " 'tc_1': 67572,\n",
       " 'tc_2': 228044,\n",
       " 'tc_3': 195559,\n",
       " 'p_m': 222219,\n",
       " 'p_f': 193310,\n",
       " 'p_n': 226649}"
      ]
     },
     "execution_count": 12,
     "metadata": {},
     "output_type": "execute_result"
    }
   ],
   "source": [
    "def calculate_distinct_tracks(playcount_groups):\n",
    "    \"\"\"\n",
    "    Calculate the number of distinct track IDs in each playcount group.\n",
    "\n",
    "    :param playcount_groups: Dictionary with playcount group name as key and list of track ID lists as value\n",
    "    :return: Dictionary with playcount group name as key and number of distinct tracks as value\n",
    "    \"\"\"\n",
    "    distinct_tracks = {}\n",
    "    for group_name, track_lists in playcount_groups.items():\n",
    "        # Flatten the list of lists and calculate the number of unique elements\n",
    "        distinct_tracks[group_name] = len(set([track_id for sublist in track_lists for track_id in sublist]))\n",
    "    return distinct_tracks\n",
    "\n",
    "groups = {\n",
    "    \"pc_1\": pc_1,\n",
    "    \"pc_2\": pc_2,\n",
    "    \"pc_3\": pc_3,\n",
    "    \"pc_4\": pc_4,\n",
    "    \"tc_1\": tc_1,\n",
    "    \"tc_2\": tc_2,\n",
    "    \"tc_3\": tc_3,\n",
    "    \"p_m\": p_m,\n",
    "    \"p_f\": p_f,\n",
    "    \"p_n\": p_n\n",
    "}\n",
    "\n",
    "groups_lists = {\n",
    "    \"pc_1\": pc_1.values.tolist(),\n",
    "    \"pc_2\": pc_2.values.tolist(),\n",
    "    \"pc_3\": pc_3.values.tolist(),\n",
    "    \"pc_4\": pc_4.values.tolist(),\n",
    "    \"tc_1\": tc_1.values.tolist(),\n",
    "    \"tc_2\": tc_2.values.tolist(),\n",
    "    \"tc_3\": tc_3.values.tolist(),\n",
    "    \"p_m\": p_m.values.tolist(),\n",
    "    \"p_f\": p_f.values.tolist(),\n",
    "    \"p_n\": p_n.values.tolist()\n",
    "}\n",
    "\n",
    "distinct_track_counts = calculate_distinct_tracks(groups_lists)\n",
    "distinct_track_counts\n"
   ]
  },
  {
   "cell_type": "code",
   "execution_count": 13,
   "metadata": {},
   "outputs": [],
   "source": [
    "import pandas as pd \n",
    "\n",
    "def calculate_sequence_length_stats(groups):\n",
    "    \"\"\"\n",
    "    Calculate average and standard deviation of sequence lengths within groups.\n",
    "\n",
    "    :param groups: Dictionary with group name as key and list of track ID lists as value\n",
    "    :return: Dictionary with group name as key, and a dictionary containing 'avg' and 'std' as value\n",
    "    \"\"\"\n",
    "    results = {}\n",
    "    for group_name, track_lists in groups.items():\n",
    "        lengths = [len(track_list) for track_list in track_lists]  # Calculate lengths\n",
    "        results[group_name] = {\n",
    "            'avg': pd.Series(lengths).mean(),\n",
    "            'std': pd.Series(lengths).std()\n",
    "        }\n",
    "    return results\n"
   ]
  },
  {
   "cell_type": "code",
   "execution_count": 14,
   "metadata": {},
   "outputs": [
    {
     "name": "stdout",
     "output_type": "stream",
     "text": [
      "pc_1\n",
      "{'pc_1': {'avg': 205.0, 'std': 136.57452178206591}}\n",
      "pc_2\n",
      "{'pc_2': {'avg': 71.34682080924856, 'std': 77.97591296056639}}\n",
      "pc_3\n",
      "{'pc_3': {'avg': 211.20023850823938, 'std': 115.20211070225358}}\n",
      "pc_4\n",
      "{'pc_4': {'avg': 247.55876057486495, 'std': 98.00893206457755}}\n",
      "tc_1\n",
      "{'tc_1': {'avg': 44.939095387371246, 'std': 21.830949933242966}}\n",
      "tc_2\n",
      "{'tc_2': {'avg': 235.68387428718432, 'std': 96.2771731300237}}\n",
      "tc_3\n",
      "{'tc_3': {'avg': 305.4428708593375, 'std': 83.76659951353588}}\n",
      "p_m\n",
      "{'p_m': {'avg': 228.23628185907046, 'std': 98.58360032209987}}\n",
      "p_f\n",
      "{'p_f': {'avg': 252.80314351971143, 'std': 100.33596347987756}}\n",
      "p_n\n",
      "{'p_n': {'avg': 227.64877494316747, 'std': 114.88051328475704}}\n"
     ]
    }
   ],
   "source": [
    "for name, group in groups.items():\n",
    "    print(name)\n",
    "    print(calculate_sequence_length_stats({name: group}))"
   ]
  },
  {
   "cell_type": "code",
   "execution_count": 15,
   "metadata": {},
   "outputs": [
    {
     "name": "stdout",
     "output_type": "stream",
     "text": [
      "pc_1\n",
      "11\n",
      "pc_2\n",
      "865\n",
      "pc_3\n",
      "9224\n",
      "pc_4\n",
      "19622\n",
      "tc_1\n",
      "2233\n",
      "tc_2\n",
      "23323\n",
      "tc_3\n",
      "4166\n",
      "p_m\n",
      "10005\n",
      "p_f\n",
      "3881\n",
      "p_n\n",
      "15836\n"
     ]
    }
   ],
   "source": [
    "for name, group in groups.items():\n",
    "    print(name)\n",
    "    print(len(group))"
   ]
  }
 ],
 "metadata": {
  "kernelspec": {
   "display_name": "track2vec",
   "language": "python",
   "name": "python3"
  },
  "language_info": {
   "codemirror_mode": {
    "name": "ipython",
    "version": 3
   },
   "file_extension": ".py",
   "mimetype": "text/x-python",
   "name": "python",
   "nbconvert_exporter": "python",
   "pygments_lexer": "ipython3",
   "version": "3.10.0"
  }
 },
 "nbformat": 4,
 "nbformat_minor": 2
}
