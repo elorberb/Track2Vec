{
 "cells": [
  {
   "cell_type": "code",
   "execution_count": 1,
   "metadata": {},
   "outputs": [],
   "source": [
    "from evaluation.EvalRSRunner import ChallengeDataset\n",
    "\n",
    "import gc\n",
    "import pandas as pd\n",
    "import numpy as np\n",
    "import os\n",
    "import matplotlib.pyplot as plt"
   ]
  },
  {
   "cell_type": "code",
   "execution_count": 2,
   "metadata": {},
   "outputs": [
    {
     "name": "stdout",
     "output_type": "stream",
     "text": [
      "LFM dataset already downloaded. Skipping download.\n",
      "Loading dataset.\n",
      "Generating Train/Test Split.\n",
      "Generating dataset hashes.\n"
     ]
    }
   ],
   "source": [
    "dataset = ChallengeDataset()"
   ]
  },
  {
   "cell_type": "code",
   "execution_count": 3,
   "metadata": {},
   "outputs": [
    {
     "data": {
      "text/plain": [
       "((6869679, 6), (29722, 3))"
      ]
     },
     "execution_count": 3,
     "metadata": {},
     "output_type": "execute_result"
    }
   ],
   "source": [
    "train, test = dataset.get_sample_train_test()\n",
    "train.shape, test.shape"
   ]
  },
  {
   "cell_type": "code",
   "execution_count": 4,
   "metadata": {},
   "outputs": [
    {
     "name": "stdout",
     "output_type": "stream",
     "text": [
      "<class 'pandas.core.frame.DataFrame'>\n",
      "Index: 6869679 entries, 0 to 37926426\n",
      "Data columns (total 6 columns):\n",
      " #   Column            Dtype\n",
      "---  ------            -----\n",
      " 0   user_id           int64\n",
      " 1   artist_id         int64\n",
      " 2   album_id          int64\n",
      " 3   track_id          int64\n",
      " 4   timestamp         int64\n",
      " 5   user_track_count  int64\n",
      "dtypes: int64(6)\n",
      "memory usage: 366.9 MB\n"
     ]
    }
   ],
   "source": [
    "train.info()"
   ]
  },
  {
   "cell_type": "code",
   "execution_count": 5,
   "metadata": {},
   "outputs": [
    {
     "name": "stdout",
     "output_type": "stream",
     "text": [
      "<class 'pandas.core.frame.DataFrame'>\n",
      "Index: 29722 entries, 37926134 to 211\n",
      "Data columns (total 3 columns):\n",
      " #   Column    Non-Null Count  Dtype\n",
      "---  ------    --------------  -----\n",
      " 0   user_id   29722 non-null  int64\n",
      " 1   track_id  29722 non-null  int64\n",
      " 2   fold      29722 non-null  int64\n",
      "dtypes: int64(3)\n",
      "memory usage: 928.8 KB\n"
     ]
    }
   ],
   "source": [
    "test.info()"
   ]
  },
  {
   "cell_type": "code",
   "execution_count": 6,
   "metadata": {},
   "outputs": [],
   "source": [
    "df = train[['user_id', 'track_id', 'timestamp', 'user_track_count']].sort_values('timestamp')\n",
    "df = pd.DataFrame(df).join(dataset.df_users, on='user_id', how='left')"
   ]
  },
  {
   "cell_type": "code",
   "execution_count": 7,
   "metadata": {},
   "outputs": [
    {
     "data": {
      "text/html": [
       "<div>\n",
       "<style scoped>\n",
       "    .dataframe tbody tr th:only-of-type {\n",
       "        vertical-align: middle;\n",
       "    }\n",
       "\n",
       "    .dataframe tbody tr th {\n",
       "        vertical-align: top;\n",
       "    }\n",
       "\n",
       "    .dataframe thead th {\n",
       "        text-align: right;\n",
       "    }\n",
       "</style>\n",
       "<table border=\"1\" class=\"dataframe\">\n",
       "  <thead>\n",
       "    <tr style=\"text-align: right;\">\n",
       "      <th></th>\n",
       "      <th>user_id</th>\n",
       "      <th>track_id</th>\n",
       "      <th>timestamp</th>\n",
       "      <th>user_track_count</th>\n",
       "      <th>country</th>\n",
       "      <th>age</th>\n",
       "      <th>gender</th>\n",
       "      <th>playcount</th>\n",
       "      <th>registered_unixtime</th>\n",
       "      <th>country_id</th>\n",
       "      <th>...</th>\n",
       "      <th>relative_le_per_hour14</th>\n",
       "      <th>relative_le_per_hour15</th>\n",
       "      <th>relative_le_per_hour16</th>\n",
       "      <th>relative_le_per_hour17</th>\n",
       "      <th>relative_le_per_hour18</th>\n",
       "      <th>relative_le_per_hour19</th>\n",
       "      <th>relative_le_per_hour20</th>\n",
       "      <th>relative_le_per_hour21</th>\n",
       "      <th>relative_le_per_hour22</th>\n",
       "      <th>relative_le_per_hour23</th>\n",
       "    </tr>\n",
       "  </thead>\n",
       "  <tbody>\n",
       "    <tr>\n",
       "      <th>37508031</th>\n",
       "      <td>2405701</td>\n",
       "      <td>1147113</td>\n",
       "      <td>1113164704</td>\n",
       "      <td>1</td>\n",
       "      <td>None</td>\n",
       "      <td>-1</td>\n",
       "      <td>None</td>\n",
       "      <td>230</td>\n",
       "      <td>1113151438</td>\n",
       "      <td>-1</td>\n",
       "      <td>...</td>\n",
       "      <td>0.0296</td>\n",
       "      <td>0.0329</td>\n",
       "      <td>0.0197</td>\n",
       "      <td>NaN</td>\n",
       "      <td>0.0428</td>\n",
       "      <td>0.0461</td>\n",
       "      <td>0.0691</td>\n",
       "      <td>0.0329</td>\n",
       "      <td>0.1283</td>\n",
       "      <td>0.0921</td>\n",
       "    </tr>\n",
       "    <tr>\n",
       "      <th>37508030</th>\n",
       "      <td>2405701</td>\n",
       "      <td>10722</td>\n",
       "      <td>1113164995</td>\n",
       "      <td>2</td>\n",
       "      <td>None</td>\n",
       "      <td>-1</td>\n",
       "      <td>None</td>\n",
       "      <td>230</td>\n",
       "      <td>1113151438</td>\n",
       "      <td>-1</td>\n",
       "      <td>...</td>\n",
       "      <td>0.0296</td>\n",
       "      <td>0.0329</td>\n",
       "      <td>0.0197</td>\n",
       "      <td>NaN</td>\n",
       "      <td>0.0428</td>\n",
       "      <td>0.0461</td>\n",
       "      <td>0.0691</td>\n",
       "      <td>0.0329</td>\n",
       "      <td>0.1283</td>\n",
       "      <td>0.0921</td>\n",
       "    </tr>\n",
       "    <tr>\n",
       "      <th>37508029</th>\n",
       "      <td>2405701</td>\n",
       "      <td>171719</td>\n",
       "      <td>1113165276</td>\n",
       "      <td>3</td>\n",
       "      <td>None</td>\n",
       "      <td>-1</td>\n",
       "      <td>None</td>\n",
       "      <td>230</td>\n",
       "      <td>1113151438</td>\n",
       "      <td>-1</td>\n",
       "      <td>...</td>\n",
       "      <td>0.0296</td>\n",
       "      <td>0.0329</td>\n",
       "      <td>0.0197</td>\n",
       "      <td>NaN</td>\n",
       "      <td>0.0428</td>\n",
       "      <td>0.0461</td>\n",
       "      <td>0.0691</td>\n",
       "      <td>0.0329</td>\n",
       "      <td>0.1283</td>\n",
       "      <td>0.0921</td>\n",
       "    </tr>\n",
       "    <tr>\n",
       "      <th>37508028</th>\n",
       "      <td>2405701</td>\n",
       "      <td>93031</td>\n",
       "      <td>1113166830</td>\n",
       "      <td>2</td>\n",
       "      <td>None</td>\n",
       "      <td>-1</td>\n",
       "      <td>None</td>\n",
       "      <td>230</td>\n",
       "      <td>1113151438</td>\n",
       "      <td>-1</td>\n",
       "      <td>...</td>\n",
       "      <td>0.0296</td>\n",
       "      <td>0.0329</td>\n",
       "      <td>0.0197</td>\n",
       "      <td>NaN</td>\n",
       "      <td>0.0428</td>\n",
       "      <td>0.0461</td>\n",
       "      <td>0.0691</td>\n",
       "      <td>0.0329</td>\n",
       "      <td>0.1283</td>\n",
       "      <td>0.0921</td>\n",
       "    </tr>\n",
       "    <tr>\n",
       "      <th>37508027</th>\n",
       "      <td>2405701</td>\n",
       "      <td>12590028</td>\n",
       "      <td>1113167111</td>\n",
       "      <td>1</td>\n",
       "      <td>None</td>\n",
       "      <td>-1</td>\n",
       "      <td>None</td>\n",
       "      <td>230</td>\n",
       "      <td>1113151438</td>\n",
       "      <td>-1</td>\n",
       "      <td>...</td>\n",
       "      <td>0.0296</td>\n",
       "      <td>0.0329</td>\n",
       "      <td>0.0197</td>\n",
       "      <td>NaN</td>\n",
       "      <td>0.0428</td>\n",
       "      <td>0.0461</td>\n",
       "      <td>0.0691</td>\n",
       "      <td>0.0329</td>\n",
       "      <td>0.1283</td>\n",
       "      <td>0.0921</td>\n",
       "    </tr>\n",
       "  </tbody>\n",
       "</table>\n",
       "<p>5 rows × 53 columns</p>\n",
       "</div>"
      ],
      "text/plain": [
       "          user_id  track_id   timestamp  user_track_count country  age gender  \\\n",
       "37508031  2405701   1147113  1113164704                 1    None   -1   None   \n",
       "37508030  2405701     10722  1113164995                 2    None   -1   None   \n",
       "37508029  2405701    171719  1113165276                 3    None   -1   None   \n",
       "37508028  2405701     93031  1113166830                 2    None   -1   None   \n",
       "37508027  2405701  12590028  1113167111                 1    None   -1   None   \n",
       "\n",
       "          playcount  registered_unixtime  country_id  ...  \\\n",
       "37508031        230           1113151438          -1  ...   \n",
       "37508030        230           1113151438          -1  ...   \n",
       "37508029        230           1113151438          -1  ...   \n",
       "37508028        230           1113151438          -1  ...   \n",
       "37508027        230           1113151438          -1  ...   \n",
       "\n",
       "          relative_le_per_hour14  relative_le_per_hour15  \\\n",
       "37508031                  0.0296                  0.0329   \n",
       "37508030                  0.0296                  0.0329   \n",
       "37508029                  0.0296                  0.0329   \n",
       "37508028                  0.0296                  0.0329   \n",
       "37508027                  0.0296                  0.0329   \n",
       "\n",
       "          relative_le_per_hour16  relative_le_per_hour17  \\\n",
       "37508031                  0.0197                     NaN   \n",
       "37508030                  0.0197                     NaN   \n",
       "37508029                  0.0197                     NaN   \n",
       "37508028                  0.0197                     NaN   \n",
       "37508027                  0.0197                     NaN   \n",
       "\n",
       "          relative_le_per_hour18  relative_le_per_hour19  \\\n",
       "37508031                  0.0428                  0.0461   \n",
       "37508030                  0.0428                  0.0461   \n",
       "37508029                  0.0428                  0.0461   \n",
       "37508028                  0.0428                  0.0461   \n",
       "37508027                  0.0428                  0.0461   \n",
       "\n",
       "          relative_le_per_hour20  relative_le_per_hour21  \\\n",
       "37508031                  0.0691                  0.0329   \n",
       "37508030                  0.0691                  0.0329   \n",
       "37508029                  0.0691                  0.0329   \n",
       "37508028                  0.0691                  0.0329   \n",
       "37508027                  0.0691                  0.0329   \n",
       "\n",
       "          relative_le_per_hour22  relative_le_per_hour23  \n",
       "37508031                  0.1283                  0.0921  \n",
       "37508030                  0.1283                  0.0921  \n",
       "37508029                  0.1283                  0.0921  \n",
       "37508028                  0.1283                  0.0921  \n",
       "37508027                  0.1283                  0.0921  \n",
       "\n",
       "[5 rows x 53 columns]"
      ]
     },
     "execution_count": 7,
     "metadata": {},
     "output_type": "execute_result"
    }
   ],
   "source": [
    "df.head()"
   ]
  },
  {
   "cell_type": "markdown",
   "metadata": {},
   "source": [
    "playcount data sections"
   ]
  },
  {
   "cell_type": "code",
   "execution_count": 8,
   "metadata": {},
   "outputs": [],
   "source": [
    "# playcount seperation\n",
    "pc_1 = df[df['playcount'] <= 10].groupby(['user_id'], sort=False)['track_id'].agg(list)\n",
    "pc_2 = df[(10 < df['playcount']) & (df['playcount'] <= 100)].groupby(['user_id'], sort=False)['track_id'].agg(list)\n",
    "pc_3 = df[(100 < df['playcount']) & (df['playcount'] <= 1000)].groupby(['user_id'], sort=False)['track_id'].agg(list)\n",
    "pc_4 = df[1000 < df['playcount']].groupby(['user_id'], sort=False)['track_id'].agg(list)\n",
    "\n",
    "\n",
    "# gender seperation\n",
    "p_m = df[df['gender'] == 'm'].groupby(['user_id'], sort=False)['track_id'].agg(list)\n",
    "p_f = df[df['gender'] == 'f'].groupby(['user_id'], sort=False)['track_id'].agg(list)\n",
    "p_n = df[(df['gender'] != 'm') & (df['gender'] != 'f')].groupby(['user_id'], sort=False)['track_id'].agg(list)\n",
    "\n",
    "\n",
    "# user_track_count seperation\n",
    "df_trackid = df.groupby(['user_id'], sort=False)['track_id'].agg(list)\n",
    "df = pd.DataFrame(df_trackid).join(df.groupby('user_id', as_index=True, sort=False)[['user_track_count']].sum(), on='user_id', how='left')\n",
    "df = pd.DataFrame(df).join(dataset.df_users, on='user_id', how='left')\n",
    "\n",
    "tc_1 = df[df['user_track_count'] <= 100]['track_id']\n",
    "tc_2 = df[(100 < df['user_track_count']) & (df['user_track_count'] <= 1000)]['track_id']\n",
    "tc_3 = df[1000 < df['user_track_count']]['track_id']"
   ]
  },
  {
   "cell_type": "code",
   "execution_count": 9,
   "metadata": {},
   "outputs": [
    {
     "data": {
      "text/plain": [
       "user_id\n",
       "2787521    [175341, 29447816, 220796, 29447932, 28047, 53...\n",
       "2687521    [161560, 21770, 35285, 16972, 30128456, 208697...\n",
       "3736127    [162691, 10627, 2309458, 115972, 4192625, 8903...\n",
       "3734112    [23819431, 23649011, 1371578, 24339267, 449417...\n",
       "5788356    [1633241, 11131, 10114, 18333, 17802570, 17388...\n",
       "Name: track_id, dtype: object"
      ]
     },
     "execution_count": 9,
     "metadata": {},
     "output_type": "execute_result"
    }
   ],
   "source": [
    "tc_1.head()"
   ]
  },
  {
   "cell_type": "code",
   "execution_count": 10,
   "metadata": {},
   "outputs": [
    {
     "data": {
      "text/plain": [
       "{'pc_1': 2217,\n",
       " 'pc_2': 42889,\n",
       " 'pc_3': 213735,\n",
       " 'pc_4': 227095,\n",
       " 'tc_1': 67572,\n",
       " 'tc_2': 228044,\n",
       " 'tc_3': 195559,\n",
       " 'p_m': 222219,\n",
       " 'p_f': 193310,\n",
       " 'p_n': 226649}"
      ]
     },
     "execution_count": 10,
     "metadata": {},
     "output_type": "execute_result"
    }
   ],
   "source": [
    "def calculate_distinct_tracks(playcount_groups):\n",
    "    \"\"\"\n",
    "    Calculate the number of distinct track IDs in each playcount group.\n",
    "\n",
    "    :param playcount_groups: Dictionary with playcount group name as key and list of track ID lists as value\n",
    "    :return: Dictionary with playcount group name as key and number of distinct tracks as value\n",
    "    \"\"\"\n",
    "    distinct_tracks = {}\n",
    "    for group_name, track_lists in playcount_groups.items():\n",
    "        # Flatten the list of lists and calculate the number of unique elements\n",
    "        distinct_tracks[group_name] = len(set([track_id for sublist in track_lists for track_id in sublist]))\n",
    "    return distinct_tracks\n",
    "\n",
    "groups = {\n",
    "    \"pc_1\": pc_1.values.tolist(),\n",
    "    \"pc_2\": pc_2.values.tolist(),\n",
    "    \"pc_3\": pc_3.values.tolist(),\n",
    "    \"pc_4\": pc_4.values.tolist(),\n",
    "    \"tc_1\": tc_1.values.tolist(),\n",
    "    \"tc_2\": tc_2.values.tolist(),\n",
    "    \"tc_3\": tc_3.values.tolist(),\n",
    "    \"p_m\": p_m.values.tolist(),\n",
    "    \"p_f\": p_f.values.tolist(),\n",
    "    \"p_n\": p_n.values.tolist()\n",
    "}\n",
    "\n",
    "distinct_track_counts = calculate_distinct_tracks(groups)\n",
    "distinct_track_counts\n"
   ]
  },
  {
   "cell_type": "markdown",
   "metadata": {},
   "source": []
  }
 ],
 "metadata": {
  "kernelspec": {
   "display_name": "track2vec",
   "language": "python",
   "name": "python3"
  },
  "language_info": {
   "codemirror_mode": {
    "name": "ipython",
    "version": 3
   },
   "file_extension": ".py",
   "mimetype": "text/x-python",
   "name": "python",
   "nbconvert_exporter": "python",
   "pygments_lexer": "ipython3",
   "version": "3.10.0"
  }
 },
 "nbformat": 4,
 "nbformat_minor": 2
}
