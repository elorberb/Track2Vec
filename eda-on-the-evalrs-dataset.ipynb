{
 "cells": [
  {
   "cell_type": "markdown",
   "id": "e90eadb8",
   "metadata": {
    "id": "nkF_4ePZHNzg",
    "papermill": {
     "duration": 0.012768,
     "end_time": "2022-08-04T18:49:44.753421",
     "exception": false,
     "start_time": "2022-08-04T18:49:44.740653",
     "status": "completed"
    },
    "tags": []
   },
   "source": [
    "# Exploring the EvalRS dataset\n",
    "\n",
    "This notebook provides some basic EDA on the dataset of the [EvalRS](https://reclist.io/cikm2022-cup/) challenge.\n",
    "Please refer to [our paper](https://arxiv.org/abs/2207.05772) for all the details.\n",
    "\n",
    "With the goal of building a *all-around* recommender system, we likely want to understand how users, tracks and listening events are distributed, with a special case to *long tails* and rare (or new events). Yeah, you can thank us for the tip later.\n",
    "\n",
    "Before we start, we need to clone the official repository and run a few setup steps and imports."
   ]
  },
  {
   "cell_type": "code",
   "execution_count": 9,
   "id": "a75ad49b",
   "metadata": {
    "execution": {
     "iopub.execute_input": "2022-08-04T18:50:31.713372Z",
     "iopub.status.busy": "2022-08-04T18:50:31.712902Z",
     "iopub.status.idle": "2022-08-04T18:50:33.004307Z",
     "shell.execute_reply": "2022-08-04T18:50:33.003052Z"
    },
    "id": "_-FxCXfaoFNU",
    "papermill": {
     "duration": 1.306584,
     "end_time": "2022-08-04T18:50:33.007228",
     "exception": false,
     "start_time": "2022-08-04T18:50:31.700644",
     "status": "completed"
    },
    "tags": []
   },
   "outputs": [],
   "source": [
    "from evaluation.EvalRSRunner import ChallengeDataset\n",
    "\n",
    "import gc\n",
    "import pandas as pd\n",
    "import numpy as np\n",
    "import os\n",
    "import matplotlib.pyplot as plt"
   ]
  },
  {
   "cell_type": "markdown",
   "id": "091e46e4",
   "metadata": {
    "papermill": {
     "duration": 0.011144,
     "end_time": "2022-08-04T18:50:33.029693",
     "exception": false,
     "start_time": "2022-08-04T18:50:33.018549",
     "status": "completed"
    },
    "tags": []
   },
   "source": [
    "Next, we have to download the dataset (~600MB) -- actually, you'll download it just the first time!"
   ]
  },
  {
   "cell_type": "code",
   "execution_count": 10,
   "id": "dfe0ad18",
   "metadata": {
    "execution": {
     "iopub.execute_input": "2022-08-04T18:50:33.054020Z",
     "iopub.status.busy": "2022-08-04T18:50:33.053225Z",
     "iopub.status.idle": "2022-08-04T18:53:26.983159Z",
     "shell.execute_reply": "2022-08-04T18:53:26.982006Z"
    },
    "id": "hij5x-hOoHKx",
    "outputId": "857b78b1-e056-4836-8442-877deb0e721f",
    "papermill": {
     "duration": 173.945665,
     "end_time": "2022-08-04T18:53:26.986405",
     "exception": false,
     "start_time": "2022-08-04T18:50:33.040740",
     "status": "completed"
    },
    "tags": []
   },
   "outputs": [
    {
     "name": "stdout",
     "output_type": "stream",
     "text": [
      "LFM dataset already downloaded. Skipping download.\n",
      "Loading dataset.\n"
     ]
    },
    {
     "name": "stdout",
     "output_type": "stream",
     "text": [
      "Generating Train/Test Split.\n",
      "Generating dataset hashes.\n"
     ]
    }
   ],
   "source": [
    "dataset = ChallengeDataset()"
   ]
  },
  {
   "cell_type": "markdown",
   "id": "02c88d6f",
   "metadata": {
    "papermill": {
     "duration": 0.022689,
     "end_time": "2022-08-04T18:53:27.032390",
     "exception": false,
     "start_time": "2022-08-04T18:53:27.009701",
     "status": "completed"
    },
    "tags": []
   },
   "source": [
    "And get a sample fold (see details on our Bootstrapping Cross-Validation evaluation strategy to know more about folds)."
   ]
  },
  {
   "cell_type": "code",
   "execution_count": 11,
   "id": "98c67be3",
   "metadata": {
    "execution": {
     "iopub.execute_input": "2022-08-04T18:53:27.081386Z",
     "iopub.status.busy": "2022-08-04T18:53:27.080895Z",
     "iopub.status.idle": "2022-08-04T18:53:39.958556Z",
     "shell.execute_reply": "2022-08-04T18:53:39.957204Z"
    },
    "id": "K-UJp05VoJVD",
    "outputId": "6d6f97fc-dcf8-4904-86b5-5d6853945ac0",
    "papermill": {
     "duration": 12.905593,
     "end_time": "2022-08-04T18:53:39.961491",
     "exception": false,
     "start_time": "2022-08-04T18:53:27.055898",
     "status": "completed"
    },
    "tags": []
   },
   "outputs": [
    {
     "data": {
      "text/plain": [
       "((6869679, 6), (29722, 3))"
      ]
     },
     "execution_count": 11,
     "metadata": {},
     "output_type": "execute_result"
    }
   ],
   "source": [
    "train, test = dataset.get_sample_train_test()\n",
    "train.shape, test.shape"
   ]
  },
  {
   "cell_type": "code",
   "execution_count": 12,
   "id": "012bb01f",
   "metadata": {
    "execution": {
     "iopub.execute_input": "2022-08-04T18:53:40.010342Z",
     "iopub.status.busy": "2022-08-04T18:53:40.009902Z",
     "iopub.status.idle": "2022-08-04T18:53:40.022536Z",
     "shell.execute_reply": "2022-08-04T18:53:40.021362Z"
    },
    "id": "n5z3WQ1iQF_Z",
    "outputId": "71918ba2-f965-44fd-9068-7bd28cec7d53",
    "papermill": {
     "duration": 0.040701,
     "end_time": "2022-08-04T18:53:40.025895",
     "exception": false,
     "start_time": "2022-08-04T18:53:39.985194",
     "status": "completed"
    },
    "tags": []
   },
   "outputs": [
    {
     "name": "stdout",
     "output_type": "stream",
     "text": [
      "<class 'pandas.core.frame.DataFrame'>\n",
      "Index: 6869679 entries, 0 to 37926426\n",
      "Data columns (total 6 columns):\n",
      " #   Column            Dtype\n",
      "---  ------            -----\n",
      " 0   user_id           int64\n",
      " 1   artist_id         int64\n",
      " 2   album_id          int64\n",
      " 3   track_id          int64\n",
      " 4   timestamp         int64\n",
      " 5   user_track_count  int64\n",
      "dtypes: int64(6)\n",
      "memory usage: 366.9 MB\n"
     ]
    }
   ],
   "source": [
    "train.info()"
   ]
  },
  {
   "cell_type": "code",
   "execution_count": 13,
   "id": "126b19b5",
   "metadata": {},
   "outputs": [
    {
     "name": "stdout",
     "output_type": "stream",
     "text": [
      "<class 'pandas.core.frame.DataFrame'>\n",
      "Index: 29722 entries, 37926134 to 211\n",
      "Data columns (total 3 columns):\n",
      " #   Column    Non-Null Count  Dtype\n",
      "---  ------    --------------  -----\n",
      " 0   user_id   29722 non-null  int64\n",
      " 1   track_id  29722 non-null  int64\n",
      " 2   fold      29722 non-null  int64\n",
      "dtypes: int64(3)\n",
      "memory usage: 928.8 KB\n"
     ]
    }
   ],
   "source": [
    "test.info()"
   ]
  },
  {
   "cell_type": "markdown",
   "id": "17db69a4",
   "metadata": {
    "papermill": {
     "duration": 0.02362,
     "end_time": "2022-08-04T18:53:40.073139",
     "exception": false,
     "start_time": "2022-08-04T18:53:40.049519",
     "status": "completed"
    },
    "tags": []
   },
   "source": [
    "So. We have ~7M training listening records. Each tells us who (*user_id*) listened to what (*track_it*), when (*timestamp*), and how many times (*user_track_count*).\n",
    "\n",
    "Let's now run some preprocessing to get started."
   ]
  },
  {
   "cell_type": "code",
   "execution_count": 14,
   "id": "2b33b916",
   "metadata": {
    "execution": {
     "iopub.execute_input": "2022-08-04T18:53:40.121737Z",
     "iopub.status.busy": "2022-08-04T18:53:40.121308Z",
     "iopub.status.idle": "2022-08-04T18:53:40.339641Z",
     "shell.execute_reply": "2022-08-04T18:53:40.338337Z"
    },
    "papermill": {
     "duration": 0.245986,
     "end_time": "2022-08-04T18:53:40.342506",
     "exception": false,
     "start_time": "2022-08-04T18:53:40.096520",
     "status": "completed"
    },
    "tags": []
   },
   "outputs": [],
   "source": [
    "# convert the timestamp in a more convenient format\n",
    "train[\"timestamp\"] = pd.to_datetime(train[\"timestamp\"], unit=\"s\")"
   ]
  },
  {
   "cell_type": "code",
   "execution_count": 15,
   "id": "65096582",
   "metadata": {
    "execution": {
     "iopub.execute_input": "2022-08-04T18:53:40.391518Z",
     "iopub.status.busy": "2022-08-04T18:53:40.390238Z",
     "iopub.status.idle": "2022-08-04T18:53:41.087623Z",
     "shell.execute_reply": "2022-08-04T18:53:41.086165Z"
    },
    "papermill": {
     "duration": 0.724797,
     "end_time": "2022-08-04T18:53:41.090652",
     "exception": false,
     "start_time": "2022-08-04T18:53:40.365855",
     "status": "completed"
    },
    "tags": []
   },
   "outputs": [],
   "source": [
    "# add a column for Hour Of the Day\n",
    "train[\"hod\"] = train[\"timestamp\"].dt.hour"
   ]
  },
  {
   "cell_type": "code",
   "execution_count": 46,
   "id": "1327be99",
   "metadata": {},
   "outputs": [],
   "source": [
    "df_exp = train[['user_id', 'track_id', 'timestamp', 'user_track_count']].sort_values('timestamp')\n",
    "df_exp = pd.DataFrame(df_exp).join(dataset.df_users, on='user_id', how='left')"
   ]
  },
  {
   "cell_type": "code",
   "execution_count": 49,
   "id": "adf6b491",
   "metadata": {},
   "outputs": [
    {
     "name": "stdout",
     "output_type": "stream",
     "text": [
      "len = 6869679\n"
     ]
    },
    {
     "data": {
      "text/html": [
       "<div>\n",
       "<style scoped>\n",
       "    .dataframe tbody tr th:only-of-type {\n",
       "        vertical-align: middle;\n",
       "    }\n",
       "\n",
       "    .dataframe tbody tr th {\n",
       "        vertical-align: top;\n",
       "    }\n",
       "\n",
       "    .dataframe thead th {\n",
       "        text-align: right;\n",
       "    }\n",
       "</style>\n",
       "<table border=\"1\" class=\"dataframe\">\n",
       "  <thead>\n",
       "    <tr style=\"text-align: right;\">\n",
       "      <th></th>\n",
       "      <th>user_id</th>\n",
       "      <th>track_id</th>\n",
       "      <th>timestamp</th>\n",
       "      <th>user_track_count</th>\n",
       "      <th>country</th>\n",
       "      <th>age</th>\n",
       "      <th>gender</th>\n",
       "      <th>playcount</th>\n",
       "      <th>registered_unixtime</th>\n",
       "      <th>country_id</th>\n",
       "      <th>...</th>\n",
       "      <th>relative_le_per_hour14</th>\n",
       "      <th>relative_le_per_hour15</th>\n",
       "      <th>relative_le_per_hour16</th>\n",
       "      <th>relative_le_per_hour17</th>\n",
       "      <th>relative_le_per_hour18</th>\n",
       "      <th>relative_le_per_hour19</th>\n",
       "      <th>relative_le_per_hour20</th>\n",
       "      <th>relative_le_per_hour21</th>\n",
       "      <th>relative_le_per_hour22</th>\n",
       "      <th>relative_le_per_hour23</th>\n",
       "    </tr>\n",
       "  </thead>\n",
       "  <tbody>\n",
       "    <tr>\n",
       "      <th>37508031</th>\n",
       "      <td>2405701</td>\n",
       "      <td>1147113</td>\n",
       "      <td>2005-04-10 20:25:04</td>\n",
       "      <td>1</td>\n",
       "      <td>None</td>\n",
       "      <td>-1</td>\n",
       "      <td>None</td>\n",
       "      <td>230</td>\n",
       "      <td>1113151438</td>\n",
       "      <td>-1</td>\n",
       "      <td>...</td>\n",
       "      <td>0.0296</td>\n",
       "      <td>0.0329</td>\n",
       "      <td>0.0197</td>\n",
       "      <td>NaN</td>\n",
       "      <td>0.0428</td>\n",
       "      <td>0.0461</td>\n",
       "      <td>0.0691</td>\n",
       "      <td>0.0329</td>\n",
       "      <td>0.1283</td>\n",
       "      <td>0.0921</td>\n",
       "    </tr>\n",
       "    <tr>\n",
       "      <th>37508030</th>\n",
       "      <td>2405701</td>\n",
       "      <td>10722</td>\n",
       "      <td>2005-04-10 20:29:55</td>\n",
       "      <td>2</td>\n",
       "      <td>None</td>\n",
       "      <td>-1</td>\n",
       "      <td>None</td>\n",
       "      <td>230</td>\n",
       "      <td>1113151438</td>\n",
       "      <td>-1</td>\n",
       "      <td>...</td>\n",
       "      <td>0.0296</td>\n",
       "      <td>0.0329</td>\n",
       "      <td>0.0197</td>\n",
       "      <td>NaN</td>\n",
       "      <td>0.0428</td>\n",
       "      <td>0.0461</td>\n",
       "      <td>0.0691</td>\n",
       "      <td>0.0329</td>\n",
       "      <td>0.1283</td>\n",
       "      <td>0.0921</td>\n",
       "    </tr>\n",
       "    <tr>\n",
       "      <th>37508029</th>\n",
       "      <td>2405701</td>\n",
       "      <td>171719</td>\n",
       "      <td>2005-04-10 20:34:36</td>\n",
       "      <td>3</td>\n",
       "      <td>None</td>\n",
       "      <td>-1</td>\n",
       "      <td>None</td>\n",
       "      <td>230</td>\n",
       "      <td>1113151438</td>\n",
       "      <td>-1</td>\n",
       "      <td>...</td>\n",
       "      <td>0.0296</td>\n",
       "      <td>0.0329</td>\n",
       "      <td>0.0197</td>\n",
       "      <td>NaN</td>\n",
       "      <td>0.0428</td>\n",
       "      <td>0.0461</td>\n",
       "      <td>0.0691</td>\n",
       "      <td>0.0329</td>\n",
       "      <td>0.1283</td>\n",
       "      <td>0.0921</td>\n",
       "    </tr>\n",
       "    <tr>\n",
       "      <th>37508028</th>\n",
       "      <td>2405701</td>\n",
       "      <td>93031</td>\n",
       "      <td>2005-04-10 21:00:30</td>\n",
       "      <td>2</td>\n",
       "      <td>None</td>\n",
       "      <td>-1</td>\n",
       "      <td>None</td>\n",
       "      <td>230</td>\n",
       "      <td>1113151438</td>\n",
       "      <td>-1</td>\n",
       "      <td>...</td>\n",
       "      <td>0.0296</td>\n",
       "      <td>0.0329</td>\n",
       "      <td>0.0197</td>\n",
       "      <td>NaN</td>\n",
       "      <td>0.0428</td>\n",
       "      <td>0.0461</td>\n",
       "      <td>0.0691</td>\n",
       "      <td>0.0329</td>\n",
       "      <td>0.1283</td>\n",
       "      <td>0.0921</td>\n",
       "    </tr>\n",
       "    <tr>\n",
       "      <th>37508027</th>\n",
       "      <td>2405701</td>\n",
       "      <td>12590028</td>\n",
       "      <td>2005-04-10 21:05:11</td>\n",
       "      <td>1</td>\n",
       "      <td>None</td>\n",
       "      <td>-1</td>\n",
       "      <td>None</td>\n",
       "      <td>230</td>\n",
       "      <td>1113151438</td>\n",
       "      <td>-1</td>\n",
       "      <td>...</td>\n",
       "      <td>0.0296</td>\n",
       "      <td>0.0329</td>\n",
       "      <td>0.0197</td>\n",
       "      <td>NaN</td>\n",
       "      <td>0.0428</td>\n",
       "      <td>0.0461</td>\n",
       "      <td>0.0691</td>\n",
       "      <td>0.0329</td>\n",
       "      <td>0.1283</td>\n",
       "      <td>0.0921</td>\n",
       "    </tr>\n",
       "  </tbody>\n",
       "</table>\n",
       "<p>5 rows × 53 columns</p>\n",
       "</div>"
      ],
      "text/plain": [
       "          user_id  track_id           timestamp  user_track_count country  \\\n",
       "37508031  2405701   1147113 2005-04-10 20:25:04                 1    None   \n",
       "37508030  2405701     10722 2005-04-10 20:29:55                 2    None   \n",
       "37508029  2405701    171719 2005-04-10 20:34:36                 3    None   \n",
       "37508028  2405701     93031 2005-04-10 21:00:30                 2    None   \n",
       "37508027  2405701  12590028 2005-04-10 21:05:11                 1    None   \n",
       "\n",
       "          age gender  playcount  registered_unixtime  country_id  ...  \\\n",
       "37508031   -1   None        230           1113151438          -1  ...   \n",
       "37508030   -1   None        230           1113151438          -1  ...   \n",
       "37508029   -1   None        230           1113151438          -1  ...   \n",
       "37508028   -1   None        230           1113151438          -1  ...   \n",
       "37508027   -1   None        230           1113151438          -1  ...   \n",
       "\n",
       "          relative_le_per_hour14  relative_le_per_hour15  \\\n",
       "37508031                  0.0296                  0.0329   \n",
       "37508030                  0.0296                  0.0329   \n",
       "37508029                  0.0296                  0.0329   \n",
       "37508028                  0.0296                  0.0329   \n",
       "37508027                  0.0296                  0.0329   \n",
       "\n",
       "          relative_le_per_hour16  relative_le_per_hour17  \\\n",
       "37508031                  0.0197                     NaN   \n",
       "37508030                  0.0197                     NaN   \n",
       "37508029                  0.0197                     NaN   \n",
       "37508028                  0.0197                     NaN   \n",
       "37508027                  0.0197                     NaN   \n",
       "\n",
       "          relative_le_per_hour18  relative_le_per_hour19  \\\n",
       "37508031                  0.0428                  0.0461   \n",
       "37508030                  0.0428                  0.0461   \n",
       "37508029                  0.0428                  0.0461   \n",
       "37508028                  0.0428                  0.0461   \n",
       "37508027                  0.0428                  0.0461   \n",
       "\n",
       "          relative_le_per_hour20  relative_le_per_hour21  \\\n",
       "37508031                  0.0691                  0.0329   \n",
       "37508030                  0.0691                  0.0329   \n",
       "37508029                  0.0691                  0.0329   \n",
       "37508028                  0.0691                  0.0329   \n",
       "37508027                  0.0691                  0.0329   \n",
       "\n",
       "          relative_le_per_hour22  relative_le_per_hour23  \n",
       "37508031                  0.1283                  0.0921  \n",
       "37508030                  0.1283                  0.0921  \n",
       "37508029                  0.1283                  0.0921  \n",
       "37508028                  0.1283                  0.0921  \n",
       "37508027                  0.1283                  0.0921  \n",
       "\n",
       "[5 rows x 53 columns]"
      ]
     },
     "execution_count": 49,
     "metadata": {},
     "output_type": "execute_result"
    }
   ],
   "source": [
    "print(f\"len = {len(df_exp)}\")\n",
    "df_exp.head()"
   ]
  },
  {
   "cell_type": "code",
   "execution_count": 50,
   "id": "7a0506c0",
   "metadata": {},
   "outputs": [
    {
     "data": {
      "text/plain": [
       "age\n",
       "-1     4140733\n",
       " 21     271101\n",
       " 22     246216\n",
       " 20     240091\n",
       " 23     204707\n",
       "        ...   \n",
       " 82        137\n",
       " 89         84\n",
       " 69         80\n",
       " 79         69\n",
       " 97         28\n",
       "Name: count, Length: 102, dtype: int64"
      ]
     },
     "execution_count": 50,
     "metadata": {},
     "output_type": "execute_result"
    }
   ],
   "source": [
    "df_exp['age'].value_counts()"
   ]
  },
  {
   "cell_type": "markdown",
   "id": "41dbf13b",
   "metadata": {
    "papermill": {
     "duration": 0.023404,
     "end_time": "2022-08-04T18:53:41.138317",
     "exception": false,
     "start_time": "2022-08-04T18:53:41.114913",
     "status": "completed"
    },
    "tags": []
   },
   "source": [
    "We are ready to do some EDA."
   ]
  },
  {
   "cell_type": "markdown",
   "id": "949982c8",
   "metadata": {
    "id": "yxlmpAMSQAYD",
    "papermill": {
     "duration": 0.022961,
     "end_time": "2022-08-04T18:53:41.184711",
     "exception": false,
     "start_time": "2022-08-04T18:53:41.161750",
     "status": "completed"
    },
    "tags": []
   },
   "source": [
    "## EDA on Tracks\n",
    "\n",
    "Let's begin with a few statistics about tracks. We can inspect how many *unique* tracks are there! "
   ]
  },
  {
   "cell_type": "code",
   "execution_count": 16,
   "id": "769a216a",
   "metadata": {
    "execution": {
     "iopub.execute_input": "2022-08-04T18:53:41.233481Z",
     "iopub.status.busy": "2022-08-04T18:53:41.232665Z",
     "iopub.status.idle": "2022-08-04T18:53:41.238533Z",
     "shell.execute_reply": "2022-08-04T18:53:41.237500Z"
    },
    "papermill": {
     "duration": 0.032883,
     "end_time": "2022-08-04T18:53:41.240829",
     "exception": false,
     "start_time": "2022-08-04T18:53:41.207946",
     "status": "completed"
    },
    "tags": []
   },
   "outputs": [],
   "source": [
    "percentiles = np.arange(1, step=0.1)\n",
    "gb_track = train.groupby(\"track_id\")"
   ]
  },
  {
   "cell_type": "markdown",
   "id": "70d9c7f3",
   "metadata": {
    "papermill": {
     "duration": 0.022896,
     "end_time": "2022-08-04T18:53:41.287894",
     "exception": false,
     "start_time": "2022-08-04T18:53:41.264998",
     "status": "completed"
    },
    "tags": []
   },
   "source": [
    "**Q0: what's the Track distribution?**"
   ]
  },
  {
   "cell_type": "code",
   "execution_count": 17,
   "id": "ad628268",
   "metadata": {
    "execution": {
     "iopub.execute_input": "2022-08-04T18:53:41.335873Z",
     "iopub.status.busy": "2022-08-04T18:53:41.335460Z",
     "iopub.status.idle": "2022-08-04T18:53:41.800345Z",
     "shell.execute_reply": "2022-08-04T18:53:41.799039Z"
    },
    "papermill": {
     "duration": 0.49194,
     "end_time": "2022-08-04T18:53:41.802851",
     "exception": false,
     "start_time": "2022-08-04T18:53:41.310911",
     "status": "completed"
    },
    "tags": []
   },
   "outputs": [
    {
     "data": {
      "text/plain": [
       "count    228044.000000\n",
       "mean         30.124358\n",
       "std          41.741419\n",
       "min           8.000000\n",
       "0%            8.000000\n",
       "10%          10.000000\n",
       "20%          12.000000\n",
       "30%          13.000000\n",
       "40%          15.000000\n",
       "50%          17.000000\n",
       "60%          21.000000\n",
       "70%          26.000000\n",
       "80%          36.000000\n",
       "90%          59.000000\n",
       "max        1608.000000\n",
       "dtype: float64"
      ]
     },
     "execution_count": 17,
     "metadata": {},
     "output_type": "execute_result"
    }
   ],
   "source": [
    "track_records = gb_track.size()\n",
    "track_records.describe(percentiles)"
   ]
  },
  {
   "cell_type": "markdown",
   "id": "63072c8b",
   "metadata": {
    "papermill": {
     "duration": 0.023142,
     "end_time": "2022-08-04T18:53:41.849515",
     "exception": false,
     "start_time": "2022-08-04T18:53:41.826373",
     "status": "completed"
    },
    "tags": []
   },
   "source": [
    "There are ~230K distinct tracks. But wait. We know there is a `timestamp` feature, does that mean that a user can play the same track multiple times? Programmatically, we should check if the pair <`user`,`track`> does appear multiple times."
   ]
  },
  {
   "cell_type": "code",
   "execution_count": 18,
   "id": "c62e6618",
   "metadata": {
    "execution": {
     "iopub.execute_input": "2022-08-04T18:53:41.899191Z",
     "iopub.status.busy": "2022-08-04T18:53:41.898301Z",
     "iopub.status.idle": "2022-08-04T18:53:45.925791Z",
     "shell.execute_reply": "2022-08-04T18:53:45.924549Z"
    },
    "papermill": {
     "duration": 4.055167,
     "end_time": "2022-08-04T18:53:45.928377",
     "exception": false,
     "start_time": "2022-08-04T18:53:41.873210",
     "status": "completed"
    },
    "tags": []
   },
   "outputs": [
    {
     "data": {
      "text/plain": [
       "True"
      ]
     },
     "execution_count": 18,
     "metadata": {},
     "output_type": "execute_result"
    }
   ],
   "source": [
    "len(train.groupby([\"user_id\", \"track_id\"]).size()) == train.shape[0]"
   ]
  },
  {
   "cell_type": "code",
   "execution_count": 19,
   "id": "d7c9142f",
   "metadata": {
    "execution": {
     "iopub.execute_input": "2022-08-04T18:53:45.977953Z",
     "iopub.status.busy": "2022-08-04T18:53:45.977460Z",
     "iopub.status.idle": "2022-08-04T18:53:45.996807Z",
     "shell.execute_reply": "2022-08-04T18:53:45.995549Z"
    },
    "papermill": {
     "duration": 0.047328,
     "end_time": "2022-08-04T18:53:45.999275",
     "exception": false,
     "start_time": "2022-08-04T18:53:45.951947",
     "status": "completed"
    },
    "tags": []
   },
   "outputs": [
    {
     "data": {
      "text/html": [
       "<div>\n",
       "<style scoped>\n",
       "    .dataframe tbody tr th:only-of-type {\n",
       "        vertical-align: middle;\n",
       "    }\n",
       "\n",
       "    .dataframe tbody tr th {\n",
       "        vertical-align: top;\n",
       "    }\n",
       "\n",
       "    .dataframe thead th {\n",
       "        text-align: right;\n",
       "    }\n",
       "</style>\n",
       "<table border=\"1\" class=\"dataframe\">\n",
       "  <thead>\n",
       "    <tr style=\"text-align: right;\">\n",
       "      <th></th>\n",
       "      <th>user_id</th>\n",
       "      <th>artist_id</th>\n",
       "      <th>album_id</th>\n",
       "      <th>track_id</th>\n",
       "      <th>timestamp</th>\n",
       "      <th>user_track_count</th>\n",
       "      <th>hod</th>\n",
       "    </tr>\n",
       "  </thead>\n",
       "  <tbody>\n",
       "    <tr>\n",
       "      <th>0</th>\n",
       "      <td>50967444</td>\n",
       "      <td>3059</td>\n",
       "      <td>114114</td>\n",
       "      <td>336613</td>\n",
       "      <td>2014-09-01 02:20:54</td>\n",
       "      <td>1</td>\n",
       "      <td>2</td>\n",
       "    </tr>\n",
       "    <tr>\n",
       "      <th>1</th>\n",
       "      <td>50967444</td>\n",
       "      <td>3059</td>\n",
       "      <td>114114</td>\n",
       "      <td>336156</td>\n",
       "      <td>2014-09-01 02:18:36</td>\n",
       "      <td>1</td>\n",
       "      <td>2</td>\n",
       "    </tr>\n",
       "    <tr>\n",
       "      <th>2</th>\n",
       "      <td>50967444</td>\n",
       "      <td>3059</td>\n",
       "      <td>114114</td>\n",
       "      <td>339139</td>\n",
       "      <td>2014-09-01 02:15:12</td>\n",
       "      <td>1</td>\n",
       "      <td>2</td>\n",
       "    </tr>\n",
       "    <tr>\n",
       "      <th>4</th>\n",
       "      <td>50967444</td>\n",
       "      <td>677</td>\n",
       "      <td>3035</td>\n",
       "      <td>674449</td>\n",
       "      <td>2014-09-01 00:56:28</td>\n",
       "      <td>1</td>\n",
       "      <td>0</td>\n",
       "    </tr>\n",
       "    <tr>\n",
       "      <th>5</th>\n",
       "      <td>50967444</td>\n",
       "      <td>677</td>\n",
       "      <td>3035</td>\n",
       "      <td>639652</td>\n",
       "      <td>2014-09-01 00:40:15</td>\n",
       "      <td>1</td>\n",
       "      <td>0</td>\n",
       "    </tr>\n",
       "  </tbody>\n",
       "</table>\n",
       "</div>"
      ],
      "text/plain": [
       "    user_id  artist_id  album_id  track_id           timestamp  \\\n",
       "0  50967444       3059    114114    336613 2014-09-01 02:20:54   \n",
       "1  50967444       3059    114114    336156 2014-09-01 02:18:36   \n",
       "2  50967444       3059    114114    339139 2014-09-01 02:15:12   \n",
       "4  50967444        677      3035    674449 2014-09-01 00:56:28   \n",
       "5  50967444        677      3035    639652 2014-09-01 00:40:15   \n",
       "\n",
       "   user_track_count  hod  \n",
       "0                 1    2  \n",
       "1                 1    2  \n",
       "2                 1    2  \n",
       "4                 1    0  \n",
       "5                 1    0  "
      ]
     },
     "execution_count": 19,
     "metadata": {},
     "output_type": "execute_result"
    }
   ],
   "source": [
    "train.head()"
   ]
  },
  {
   "cell_type": "code",
   "execution_count": 20,
   "id": "1dcd5268",
   "metadata": {},
   "outputs": [
    {
     "data": {
      "text/plain": [
       "user_track_count\n",
       "1      4504994\n",
       "2      1004407\n",
       "3       411600\n",
       "4       227725\n",
       "5       144134\n",
       "        ...   \n",
       "554          1\n",
       "923          1\n",
       "706          1\n",
       "517          1\n",
       "403          1\n",
       "Name: count, Length: 634, dtype: int64"
      ]
     },
     "execution_count": 20,
     "metadata": {},
     "output_type": "execute_result"
    }
   ],
   "source": [
    "train['user_track_count'].value_counts()"
   ]
  },
  {
   "cell_type": "code",
   "execution_count": 21,
   "id": "34039383",
   "metadata": {},
   "outputs": [
    {
     "data": {
      "text/plain": [
       "user_id\n",
       "384         202\n",
       "10879       218\n",
       "12619       184\n",
       "14308       195\n",
       "15067       273\n",
       "           ... \n",
       "50083088     20\n",
       "50085736     30\n",
       "50086315     39\n",
       "50900118    161\n",
       "50967444    279\n",
       "Name: track_id, Length: 29722, dtype: int64"
      ]
     },
     "execution_count": 21,
     "metadata": {},
     "output_type": "execute_result"
    }
   ],
   "source": [
    "train.groupby('user_id')['track_id'].nunique()"
   ]
  },
  {
   "cell_type": "markdown",
   "id": "0b8b3b25",
   "metadata": {
    "papermill": {
     "duration": 0.023181,
     "end_time": "2022-08-04T18:53:46.046190",
     "exception": false,
     "start_time": "2022-08-04T18:53:46.023009",
     "status": "completed"
    },
    "tags": []
   },
   "source": [
    "The two sizes correspond: we can assume there are no <`user`,`track`> duplicates. Indeed, the `user_track_count` value lets us know the play count!\n",
    "\n",
    "We also obtained a new information: `track_records` contains the number of distinct users that played a given track. Let's now observe the distribution graphically."
   ]
  },
  {
   "cell_type": "code",
   "execution_count": 22,
   "id": "db6838e7",
   "metadata": {
    "execution": {
     "iopub.execute_input": "2022-08-04T18:53:46.095820Z",
     "iopub.status.busy": "2022-08-04T18:53:46.095422Z",
     "iopub.status.idle": "2022-08-04T18:53:46.875360Z",
     "shell.execute_reply": "2022-08-04T18:53:46.874167Z"
    },
    "papermill": {
     "duration": 0.808233,
     "end_time": "2022-08-04T18:53:46.877926",
     "exception": false,
     "start_time": "2022-08-04T18:53:46.069693",
     "status": "completed"
    },
    "tags": []
   },
   "outputs": [
    {
     "data": {
      "text/plain": [
       "Text(0, 0.5, 'Track Count (log)')"
      ]
     },
     "execution_count": 22,
     "metadata": {},
     "output_type": "execute_result"
    },
    {
     "data": {
      "image/png": "[encoded data removed]",
      "text/plain": [
       "<Figure size 1200x800 with 1 Axes>"
      ]
     },
     "metadata": {},
     "output_type": "display_data"
    }
   ],
   "source": [
    "fig, ax = plt.subplots(figsize=(12,8))\n",
    "ax.hist(track_records)\n",
    "ax.set_yscale(\"log\")\n",
    "ax.set_xlabel(\"Distinct Users\")\n",
    "ax.set_ylabel(\"Track Count (log)\")"
   ]
  },
  {
   "cell_type": "markdown",
   "id": "51a327a9",
   "metadata": {
    "papermill": {
     "duration": 0.024882,
     "end_time": "2022-08-04T18:53:46.927688",
     "exception": false,
     "start_time": "2022-08-04T18:53:46.902806",
     "status": "completed"
    },
    "tags": []
   },
   "source": [
    "Let's look at the distribution in percentiles again. "
   ]
  },
  {
   "cell_type": "code",
   "execution_count": 23,
   "id": "d5aaef19",
   "metadata": {
    "execution": {
     "iopub.execute_input": "2022-08-04T18:53:46.978085Z",
     "iopub.status.busy": "2022-08-04T18:53:46.977299Z",
     "iopub.status.idle": "2022-08-04T18:53:46.995587Z",
     "shell.execute_reply": "2022-08-04T18:53:46.994593Z"
    },
    "id": "nQk3NbVYpsE2",
    "outputId": "1bd40fd4-a366-43da-e316-6449648beca0",
    "papermill": {
     "duration": 0.046165,
     "end_time": "2022-08-04T18:53:46.997871",
     "exception": false,
     "start_time": "2022-08-04T18:53:46.951706",
     "status": "completed"
    },
    "tags": []
   },
   "outputs": [
    {
     "data": {
      "text/plain": [
       "count    228044.000000\n",
       "mean         30.124358\n",
       "std          41.741419\n",
       "min           8.000000\n",
       "0%            8.000000\n",
       "10%          10.000000\n",
       "20%          12.000000\n",
       "30%          13.000000\n",
       "40%          15.000000\n",
       "50%          17.000000\n",
       "60%          21.000000\n",
       "70%          26.000000\n",
       "80%          36.000000\n",
       "90%          59.000000\n",
       "max        1608.000000\n",
       "dtype: float64"
      ]
     },
     "execution_count": 23,
     "metadata": {},
     "output_type": "execute_result"
    }
   ],
   "source": [
    "track_records.describe(percentiles)"
   ]
  },
  {
   "cell_type": "markdown",
   "id": "eba0107f",
   "metadata": {
    "papermill": {
     "duration": 0.024284,
     "end_time": "2022-08-04T18:53:47.046557",
     "exception": false,
     "start_time": "2022-08-04T18:53:47.022273",
     "status": "completed"
    },
    "tags": []
   },
   "source": [
    "Tracks are listened by 30 distinct users on the average, and that 90% of them has less than 58 distinct users that played it. Further, there are some outliers: the maximum number of users is ~1600. Is this a very popular track or a dataset artifact? Let's find out.   "
   ]
  },
  {
   "cell_type": "code",
   "execution_count": 24,
   "id": "2c796fe9",
   "metadata": {
    "execution": {
     "iopub.execute_input": "2022-08-04T18:53:47.097302Z",
     "iopub.status.busy": "2022-08-04T18:53:47.096838Z",
     "iopub.status.idle": "2022-08-04T18:53:47.174907Z",
     "shell.execute_reply": "2022-08-04T18:53:47.174034Z"
    },
    "papermill": {
     "duration": 0.106477,
     "end_time": "2022-08-04T18:53:47.177244",
     "exception": false,
     "start_time": "2022-08-04T18:53:47.070767",
     "status": "completed"
    },
    "tags": []
   },
   "outputs": [
    {
     "data": {
      "text/html": [
       "<div>\n",
       "<style scoped>\n",
       "    .dataframe tbody tr th:only-of-type {\n",
       "        vertical-align: middle;\n",
       "    }\n",
       "\n",
       "    .dataframe tbody tr th {\n",
       "        vertical-align: top;\n",
       "    }\n",
       "\n",
       "    .dataframe thead th {\n",
       "        text-align: right;\n",
       "    }\n",
       "</style>\n",
       "<table border=\"1\" class=\"dataframe\">\n",
       "  <thead>\n",
       "    <tr style=\"text-align: right;\">\n",
       "      <th></th>\n",
       "      <th>track</th>\n",
       "      <th>artist_id</th>\n",
       "      <th>artist</th>\n",
       "      <th>albums_id</th>\n",
       "      <th>albums</th>\n",
       "      <th>urlSong</th>\n",
       "      <th>arousal_predicted</th>\n",
       "      <th>valence_predicted</th>\n",
       "      <th>lastfm_id</th>\n",
       "      <th>has_emotion_tags</th>\n",
       "      <th>has_social_tags</th>\n",
       "      <th>isClassic</th>\n",
       "      <th>distinct_user_count</th>\n",
       "    </tr>\n",
       "    <tr>\n",
       "      <th>track_id</th>\n",
       "      <th></th>\n",
       "      <th></th>\n",
       "      <th></th>\n",
       "      <th></th>\n",
       "      <th></th>\n",
       "      <th></th>\n",
       "      <th></th>\n",
       "      <th></th>\n",
       "      <th></th>\n",
       "      <th></th>\n",
       "      <th></th>\n",
       "      <th></th>\n",
       "      <th></th>\n",
       "    </tr>\n",
       "  </thead>\n",
       "  <tbody>\n",
       "    <tr>\n",
       "      <th>4868</th>\n",
       "      <td>Rolling in the Deep</td>\n",
       "      <td>504</td>\n",
       "      <td>Adele</td>\n",
       "      <td>[1518, 18942, 64876, 66600, 80986, 93573, 9761...</td>\n",
       "      <td>['21', '19', '21 (Deluxe Edition)', 'monday_pl...</td>\n",
       "      <td>http://lyrics.wikia.com/Adele:Rolling_In_The_Deep</td>\n",
       "      <td>0.390623</td>\n",
       "      <td>-0.263898</td>\n",
       "      <td>None</td>\n",
       "      <td>None</td>\n",
       "      <td>None</td>\n",
       "      <td>True</td>\n",
       "      <td>1608</td>\n",
       "    </tr>\n",
       "    <tr>\n",
       "      <th>26142</th>\n",
       "      <td>We Are Young (feat. Janelle Monáe)</td>\n",
       "      <td>3151</td>\n",
       "      <td>fun.</td>\n",
       "      <td>[6907, 9619, 53139, 162664, 238945, 246098, 27...</td>\n",
       "      <td>['Some Nights', 'We Are Young', nan, 'The Best...</td>\n",
       "      <td>None</td>\n",
       "      <td>NaN</td>\n",
       "      <td>NaN</td>\n",
       "      <td>None</td>\n",
       "      <td>None</td>\n",
       "      <td>None</td>\n",
       "      <td>None</td>\n",
       "      <td>1476</td>\n",
       "    </tr>\n",
       "    <tr>\n",
       "      <th>11393952</th>\n",
       "      <td>Somebody That I Used to Know</td>\n",
       "      <td>3085</td>\n",
       "      <td>Gotye</td>\n",
       "      <td>[20107, 33321, 90034, 103479, 107493, 158828, ...</td>\n",
       "      <td>['Making Mirrors (Deluxe Edition)', 'Somebody ...</td>\n",
       "      <td>http://lyrics.wikia.com/Gotye:Somebody_That_I_...</td>\n",
       "      <td>-0.383686</td>\n",
       "      <td>-0.720571</td>\n",
       "      <td>None</td>\n",
       "      <td>None</td>\n",
       "      <td>None</td>\n",
       "      <td>True</td>\n",
       "      <td>1376</td>\n",
       "    </tr>\n",
       "    <tr>\n",
       "      <th>16110</th>\n",
       "      <td>Get Lucky (feat. Pharrell Williams)</td>\n",
       "      <td>320</td>\n",
       "      <td>Daft Punk</td>\n",
       "      <td>[5331, 10200, 11728, 40809, 84112, 95892, 1237...</td>\n",
       "      <td>['Random Access Memories', 'Get Lucky', 'Homew...</td>\n",
       "      <td>None</td>\n",
       "      <td>NaN</td>\n",
       "      <td>NaN</td>\n",
       "      <td>None</td>\n",
       "      <td>None</td>\n",
       "      <td>None</td>\n",
       "      <td>None</td>\n",
       "      <td>1337</td>\n",
       "    </tr>\n",
       "    <tr>\n",
       "      <th>14034</th>\n",
       "      <td>We Found Love (feat. Calvin Harris)</td>\n",
       "      <td>355</td>\n",
       "      <td>Rihanna</td>\n",
       "      <td>[4961, 6808, 14253, 18206, 18254, 19802, 40014...</td>\n",
       "      <td>['We Found Love', 'The Official Uk Top 40 Sing...</td>\n",
       "      <td>None</td>\n",
       "      <td>NaN</td>\n",
       "      <td>NaN</td>\n",
       "      <td>None</td>\n",
       "      <td>None</td>\n",
       "      <td>None</td>\n",
       "      <td>None</td>\n",
       "      <td>1281</td>\n",
       "    </tr>\n",
       "    <tr>\n",
       "      <th>51176</th>\n",
       "      <td>Titanium (feat. Sia)</td>\n",
       "      <td>1935</td>\n",
       "      <td>David Guetta</td>\n",
       "      <td>[16065, 18345, 18845, 32658, 40236, 80698, 875...</td>\n",
       "      <td>['Best of...', 'Nothing but the Beat 2.0', 'No...</td>\n",
       "      <td>None</td>\n",
       "      <td>NaN</td>\n",
       "      <td>NaN</td>\n",
       "      <td>None</td>\n",
       "      <td>None</td>\n",
       "      <td>None</td>\n",
       "      <td>None</td>\n",
       "      <td>1128</td>\n",
       "    </tr>\n",
       "    <tr>\n",
       "      <th>572665</th>\n",
       "      <td>Set Fire to the Rain</td>\n",
       "      <td>504</td>\n",
       "      <td>Adele</td>\n",
       "      <td>[1518, 64876, 93573, 98525, 116649, 143113, 14...</td>\n",
       "      <td>['21', '21 (Deluxe Edition)', 'Rolling in the ...</td>\n",
       "      <td>http://lyrics.wikia.com/Adele:Set_Fire_To_The_...</td>\n",
       "      <td>-0.428821</td>\n",
       "      <td>-0.415065</td>\n",
       "      <td>None</td>\n",
       "      <td>None</td>\n",
       "      <td>None</td>\n",
       "      <td>False</td>\n",
       "      <td>1086</td>\n",
       "    </tr>\n",
       "    <tr>\n",
       "      <th>28847</th>\n",
       "      <td>Get Lucky (Radio Edit) [feat. Pharrell Williams]</td>\n",
       "      <td>320</td>\n",
       "      <td>Daft Punk</td>\n",
       "      <td>[10200, 19277, 136209, 188202, 269754, 361728,...</td>\n",
       "      <td>['Get Lucky', nan, 'Random Access Memories', '...</td>\n",
       "      <td>None</td>\n",
       "      <td>NaN</td>\n",
       "      <td>NaN</td>\n",
       "      <td>None</td>\n",
       "      <td>None</td>\n",
       "      <td>None</td>\n",
       "      <td>None</td>\n",
       "      <td>1076</td>\n",
       "    </tr>\n",
       "    <tr>\n",
       "      <th>2498</th>\n",
       "      <td>Blue Jeans</td>\n",
       "      <td>402</td>\n",
       "      <td>Lana Del Rey</td>\n",
       "      <td>[1066, 4509, 12831, 20462, 20475, 20735, 79820...</td>\n",
       "      <td>['Born to Die', 'Born to Die - The Paradise Ed...</td>\n",
       "      <td>http://lyrics.wikia.com/Lana_Del_Rey:Blue_Jeans</td>\n",
       "      <td>0.278431</td>\n",
       "      <td>-0.109800</td>\n",
       "      <td>None</td>\n",
       "      <td>None</td>\n",
       "      <td>None</td>\n",
       "      <td>False</td>\n",
       "      <td>1007</td>\n",
       "    </tr>\n",
       "    <tr>\n",
       "      <th>14775</th>\n",
       "      <td>Give Life Back to Music</td>\n",
       "      <td>320</td>\n",
       "      <td>Daft Punk</td>\n",
       "      <td>[5331, 95892, 136209, 167688, 429072, 472207, ...</td>\n",
       "      <td>['Random Access Memories', 'Random Access Memo...</td>\n",
       "      <td>http://lyrics.wikia.com/Daft_Punk:Give_Life_Ba...</td>\n",
       "      <td>0.218098</td>\n",
       "      <td>0.600940</td>\n",
       "      <td>None</td>\n",
       "      <td>None</td>\n",
       "      <td>None</td>\n",
       "      <td>False</td>\n",
       "      <td>982</td>\n",
       "    </tr>\n",
       "  </tbody>\n",
       "</table>\n",
       "</div>"
      ],
      "text/plain": [
       "                                                     track  artist_id  \\\n",
       "track_id                                                                \n",
       "4868                                   Rolling in the Deep        504   \n",
       "26142                   We Are Young (feat. Janelle Monáe)       3151   \n",
       "11393952                      Somebody That I Used to Know       3085   \n",
       "16110                  Get Lucky (feat. Pharrell Williams)        320   \n",
       "14034                  We Found Love (feat. Calvin Harris)        355   \n",
       "51176                                 Titanium (feat. Sia)       1935   \n",
       "572665                                Set Fire to the Rain        504   \n",
       "28847     Get Lucky (Radio Edit) [feat. Pharrell Williams]        320   \n",
       "2498                                            Blue Jeans        402   \n",
       "14775                              Give Life Back to Music        320   \n",
       "\n",
       "                artist                                          albums_id  \\\n",
       "track_id                                                                    \n",
       "4868             Adele  [1518, 18942, 64876, 66600, 80986, 93573, 9761...   \n",
       "26142             fun.  [6907, 9619, 53139, 162664, 238945, 246098, 27...   \n",
       "11393952         Gotye  [20107, 33321, 90034, 103479, 107493, 158828, ...   \n",
       "16110        Daft Punk  [5331, 10200, 11728, 40809, 84112, 95892, 1237...   \n",
       "14034          Rihanna  [4961, 6808, 14253, 18206, 18254, 19802, 40014...   \n",
       "51176     David Guetta  [16065, 18345, 18845, 32658, 40236, 80698, 875...   \n",
       "572665           Adele  [1518, 64876, 93573, 98525, 116649, 143113, 14...   \n",
       "28847        Daft Punk  [10200, 19277, 136209, 188202, 269754, 361728,...   \n",
       "2498      Lana Del Rey  [1066, 4509, 12831, 20462, 20475, 20735, 79820...   \n",
       "14775        Daft Punk  [5331, 95892, 136209, 167688, 429072, 472207, ...   \n",
       "\n",
       "                                                     albums  \\\n",
       "track_id                                                      \n",
       "4868      ['21', '19', '21 (Deluxe Edition)', 'monday_pl...   \n",
       "26142     ['Some Nights', 'We Are Young', nan, 'The Best...   \n",
       "11393952  ['Making Mirrors (Deluxe Edition)', 'Somebody ...   \n",
       "16110     ['Random Access Memories', 'Get Lucky', 'Homew...   \n",
       "14034     ['We Found Love', 'The Official Uk Top 40 Sing...   \n",
       "51176     ['Best of...', 'Nothing but the Beat 2.0', 'No...   \n",
       "572665    ['21', '21 (Deluxe Edition)', 'Rolling in the ...   \n",
       "28847     ['Get Lucky', nan, 'Random Access Memories', '...   \n",
       "2498      ['Born to Die', 'Born to Die - The Paradise Ed...   \n",
       "14775     ['Random Access Memories', 'Random Access Memo...   \n",
       "\n",
       "                                                    urlSong  \\\n",
       "track_id                                                      \n",
       "4868      http://lyrics.wikia.com/Adele:Rolling_In_The_Deep   \n",
       "26142                                                  None   \n",
       "11393952  http://lyrics.wikia.com/Gotye:Somebody_That_I_...   \n",
       "16110                                                  None   \n",
       "14034                                                  None   \n",
       "51176                                                  None   \n",
       "572665    http://lyrics.wikia.com/Adele:Set_Fire_To_The_...   \n",
       "28847                                                  None   \n",
       "2498        http://lyrics.wikia.com/Lana_Del_Rey:Blue_Jeans   \n",
       "14775     http://lyrics.wikia.com/Daft_Punk:Give_Life_Ba...   \n",
       "\n",
       "          arousal_predicted  valence_predicted lastfm_id has_emotion_tags  \\\n",
       "track_id                                                                    \n",
       "4868               0.390623          -0.263898      None             None   \n",
       "26142                   NaN                NaN      None             None   \n",
       "11393952          -0.383686          -0.720571      None             None   \n",
       "16110                   NaN                NaN      None             None   \n",
       "14034                   NaN                NaN      None             None   \n",
       "51176                   NaN                NaN      None             None   \n",
       "572665            -0.428821          -0.415065      None             None   \n",
       "28847                   NaN                NaN      None             None   \n",
       "2498               0.278431          -0.109800      None             None   \n",
       "14775              0.218098           0.600940      None             None   \n",
       "\n",
       "         has_social_tags isClassic  distinct_user_count  \n",
       "track_id                                                 \n",
       "4868                None      True                 1608  \n",
       "26142               None      None                 1476  \n",
       "11393952            None      True                 1376  \n",
       "16110               None      None                 1337  \n",
       "14034               None      None                 1281  \n",
       "51176               None      None                 1128  \n",
       "572665              None     False                 1086  \n",
       "28847               None      None                 1076  \n",
       "2498                None     False                 1007  \n",
       "14775               None     False                  982  "
      ]
     },
     "execution_count": 24,
     "metadata": {},
     "output_type": "execute_result"
    }
   ],
   "source": [
    "K = 10\n",
    "top_by_user = track_records.iloc[track_records.argsort().values[:-(K+1):-1]]\n",
    "top_by_user.name = \"distinct_user_count\"\n",
    "\n",
    "# Retrieve the task information from the `dataset` handler variable\n",
    "dataset.df_tracks.loc[top_by_user.index].join(top_by_user)"
   ]
  },
  {
   "cell_type": "markdown",
   "id": "f8dfe8ff",
   "metadata": {
    "papermill": {
     "duration": 0.0242,
     "end_time": "2022-08-04T18:53:47.226248",
     "exception": false,
     "start_time": "2022-08-04T18:53:47.202048",
     "status": "completed"
    },
    "tags": []
   },
   "source": [
    "Well, these song seem pretty popular, right? But something more came up... look at position **3** and **6**: there are two different versions of *Get Lucky*. Is this something you want your model to factor in at training time? "
   ]
  },
  {
   "cell_type": "markdown",
   "id": "2ee057d6",
   "metadata": {
    "papermill": {
     "duration": 0.024348,
     "end_time": "2022-08-04T18:53:47.275508",
     "exception": false,
     "start_time": "2022-08-04T18:53:47.251160",
     "status": "completed"
    },
    "tags": []
   },
   "source": [
    "**Q1: How many times does a user play the same song?**\n",
    "\n",
    "We can use the handy `user_track_count` to measure how frequently users get engaged by songs (remember to take a look at all the columns in `dataset.df_users`, there are very userful variable there)."
   ]
  },
  {
   "cell_type": "code",
   "execution_count": 25,
   "id": "12479fa0",
   "metadata": {
    "execution": {
     "iopub.execute_input": "2022-08-04T18:53:47.327394Z",
     "iopub.status.busy": "2022-08-04T18:53:47.326531Z",
     "iopub.status.idle": "2022-08-04T18:53:47.515577Z",
     "shell.execute_reply": "2022-08-04T18:53:47.514398Z"
    },
    "papermill": {
     "duration": 0.218038,
     "end_time": "2022-08-04T18:53:47.518367",
     "exception": false,
     "start_time": "2022-08-04T18:53:47.300329",
     "status": "completed"
    },
    "tags": []
   },
   "outputs": [
    {
     "data": {
      "text/plain": [
       "count    228044.000000\n",
       "mean          2.552850\n",
       "std           2.512765\n",
       "min           1.000000\n",
       "0%            1.000000\n",
       "10%           1.250000\n",
       "20%           1.416667\n",
       "30%           1.583333\n",
       "40%           1.761905\n",
       "50%           1.983607\n",
       "60%           2.233987\n",
       "70%           2.596154\n",
       "80%           3.151515\n",
       "90%           4.267815\n",
       "max         261.692308\n",
       "Name: user_track_count, dtype: float64"
      ]
     },
     "execution_count": 25,
     "metadata": {},
     "output_type": "execute_result"
    }
   ],
   "source": [
    "avg_play_count = gb_track[\"user_track_count\"].mean()\n",
    "avg_play_count.describe(percentiles)"
   ]
  },
  {
   "cell_type": "markdown",
   "id": "fc829170",
   "metadata": {
    "papermill": {
     "duration": 0.0253,
     "end_time": "2022-08-04T18:53:47.568564",
     "exception": false,
     "start_time": "2022-08-04T18:53:47.543264",
     "status": "completed"
    },
    "tags": []
   },
   "source": [
    "On the average, a user repeats a given track ~2.6 times. Again, let's inspect our tail."
   ]
  },
  {
   "cell_type": "code",
   "execution_count": 26,
   "id": "b60c064a",
   "metadata": {
    "execution": {
     "iopub.execute_input": "2022-08-04T18:53:47.621298Z",
     "iopub.status.busy": "2022-08-04T18:53:47.620030Z",
     "iopub.status.idle": "2022-08-04T18:53:47.657421Z",
     "shell.execute_reply": "2022-08-04T18:53:47.656465Z"
    },
    "papermill": {
     "duration": 0.066417,
     "end_time": "2022-08-04T18:53:47.659949",
     "exception": false,
     "start_time": "2022-08-04T18:53:47.593532",
     "status": "completed"
    },
    "tags": []
   },
   "outputs": [
    {
     "data": {
      "text/html": [
       "<div>\n",
       "<style scoped>\n",
       "    .dataframe tbody tr th:only-of-type {\n",
       "        vertical-align: middle;\n",
       "    }\n",
       "\n",
       "    .dataframe tbody tr th {\n",
       "        vertical-align: top;\n",
       "    }\n",
       "\n",
       "    .dataframe thead th {\n",
       "        text-align: right;\n",
       "    }\n",
       "</style>\n",
       "<table border=\"1\" class=\"dataframe\">\n",
       "  <thead>\n",
       "    <tr style=\"text-align: right;\">\n",
       "      <th></th>\n",
       "      <th>track</th>\n",
       "      <th>artist_id</th>\n",
       "      <th>artist</th>\n",
       "      <th>albums_id</th>\n",
       "      <th>albums</th>\n",
       "      <th>urlSong</th>\n",
       "      <th>arousal_predicted</th>\n",
       "      <th>valence_predicted</th>\n",
       "      <th>lastfm_id</th>\n",
       "      <th>has_emotion_tags</th>\n",
       "      <th>has_social_tags</th>\n",
       "      <th>isClassic</th>\n",
       "      <th>avg_play_count</th>\n",
       "    </tr>\n",
       "    <tr>\n",
       "      <th>track_id</th>\n",
       "      <th></th>\n",
       "      <th></th>\n",
       "      <th></th>\n",
       "      <th></th>\n",
       "      <th></th>\n",
       "      <th></th>\n",
       "      <th></th>\n",
       "      <th></th>\n",
       "      <th></th>\n",
       "      <th></th>\n",
       "      <th></th>\n",
       "      <th></th>\n",
       "      <th></th>\n",
       "    </tr>\n",
       "  </thead>\n",
       "  <tbody>\n",
       "    <tr>\n",
       "      <th>176516</th>\n",
       "      <td>20.000 Miles Over the Sea</td>\n",
       "      <td>48</td>\n",
       "      <td>Enigma</td>\n",
       "      <td>[917, 60733]</td>\n",
       "      <td>['A Posteriori', 'A Posteriori (Advance)']</td>\n",
       "      <td>http://lyrics.wikia.com/Enigma:20.000_Miles_Ov...</td>\n",
       "      <td>-0.076169</td>\n",
       "      <td>-0.118055</td>\n",
       "      <td>TRXFLYS128EF3553D4</td>\n",
       "      <td>True</td>\n",
       "      <td>True</td>\n",
       "      <td>False</td>\n",
       "      <td>261.692308</td>\n",
       "    </tr>\n",
       "    <tr>\n",
       "      <th>361822</th>\n",
       "      <td>Bury Me in Vegas</td>\n",
       "      <td>14005</td>\n",
       "      <td>Eskimo Callboy</td>\n",
       "      <td>[125035]</td>\n",
       "      <td>['Bury Me in Vegas']</td>\n",
       "      <td>http://lyrics.wikia.com/Eskimo_Callboy:Bury_Me...</td>\n",
       "      <td>0.258987</td>\n",
       "      <td>-0.205667</td>\n",
       "      <td>None</td>\n",
       "      <td>None</td>\n",
       "      <td>None</td>\n",
       "      <td>False</td>\n",
       "      <td>239.464286</td>\n",
       "    </tr>\n",
       "    <tr>\n",
       "      <th>2746593</th>\n",
       "      <td>Whatever</td>\n",
       "      <td>16858</td>\n",
       "      <td>4minute</td>\n",
       "      <td>[134302, 1097460, 4794617]</td>\n",
       "      <td>['Name Is 4minute', 'Name Is 4minute', 'Name I...</td>\n",
       "      <td>None</td>\n",
       "      <td>NaN</td>\n",
       "      <td>NaN</td>\n",
       "      <td>None</td>\n",
       "      <td>None</td>\n",
       "      <td>None</td>\n",
       "      <td>None</td>\n",
       "      <td>189.600000</td>\n",
       "    </tr>\n",
       "    <tr>\n",
       "      <th>362676</th>\n",
       "      <td>Youth Gone Wild (Skid Row cover)</td>\n",
       "      <td>8988</td>\n",
       "      <td>Asking Alexandria</td>\n",
       "      <td>[84931, 118455, 125624]</td>\n",
       "      <td>['Life Gone Wild', 'Life Gone Wild EP', 'Life ...</td>\n",
       "      <td>None</td>\n",
       "      <td>NaN</td>\n",
       "      <td>NaN</td>\n",
       "      <td>None</td>\n",
       "      <td>None</td>\n",
       "      <td>None</td>\n",
       "      <td>None</td>\n",
       "      <td>175.133333</td>\n",
       "    </tr>\n",
       "    <tr>\n",
       "      <th>34135</th>\n",
       "      <td>Slow Emotion Replay</td>\n",
       "      <td>6167</td>\n",
       "      <td>The The</td>\n",
       "      <td>[12317, 67220, 233928, 319619, 319624, 339975,...</td>\n",
       "      <td>['Dusk', 'London Town 1983-1993', '45 RPM: The...</td>\n",
       "      <td>http://lyrics.wikia.com/The_The:Slow_Emotion_R...</td>\n",
       "      <td>0.122632</td>\n",
       "      <td>-0.443743</td>\n",
       "      <td>None</td>\n",
       "      <td>None</td>\n",
       "      <td>None</td>\n",
       "      <td>False</td>\n",
       "      <td>136.947368</td>\n",
       "    </tr>\n",
       "    <tr>\n",
       "      <th>177</th>\n",
       "      <td>Gravity of Love</td>\n",
       "      <td>48</td>\n",
       "      <td>Enigma</td>\n",
       "      <td>[72, 336, 1489, 10686, 60702, 195575, 195621, ...</td>\n",
       "      <td>['Love Sensuality Devotion - The Greatest Hits...</td>\n",
       "      <td>http://lyrics.wikia.com/Enigma:Gravity_Of_Love</td>\n",
       "      <td>-0.216604</td>\n",
       "      <td>0.197573</td>\n",
       "      <td>TRQSKNG128F146A48C</td>\n",
       "      <td>True</td>\n",
       "      <td>True</td>\n",
       "      <td>False</td>\n",
       "      <td>130.071429</td>\n",
       "    </tr>\n",
       "    <tr>\n",
       "      <th>840071</th>\n",
       "      <td>Going Nowhere Fast</td>\n",
       "      <td>18713</td>\n",
       "      <td>Joey Ramone</td>\n",
       "      <td>[308233, 339655, 464406, 1352501]</td>\n",
       "      <td>['ya know', '...ya know?', '...ya know?', 'Ya ...</td>\n",
       "      <td>http://lyrics.wikia.com/Joey_Ramone:Going_Nowh...</td>\n",
       "      <td>0.193137</td>\n",
       "      <td>-0.180341</td>\n",
       "      <td>None</td>\n",
       "      <td>None</td>\n",
       "      <td>None</td>\n",
       "      <td>False</td>\n",
       "      <td>129.750000</td>\n",
       "    </tr>\n",
       "    <tr>\n",
       "      <th>993722</th>\n",
       "      <td>We Believe</td>\n",
       "      <td>59718</td>\n",
       "      <td>David Cook</td>\n",
       "      <td>[185432, 345497, 3655166, 4282962]</td>\n",
       "      <td>['This Loud Morning (Deluxe Version)', 'This L...</td>\n",
       "      <td>http://lyrics.wikia.com/David_Cook:We_Believe</td>\n",
       "      <td>-0.025612</td>\n",
       "      <td>0.159226</td>\n",
       "      <td>None</td>\n",
       "      <td>None</td>\n",
       "      <td>None</td>\n",
       "      <td>False</td>\n",
       "      <td>127.100000</td>\n",
       "    </tr>\n",
       "    <tr>\n",
       "      <th>639125</th>\n",
       "      <td>Silver City</td>\n",
       "      <td>67671</td>\n",
       "      <td>Ghostland Observatory</td>\n",
       "      <td>[229029, 400187, 1467560, 9877205]</td>\n",
       "      <td>['Live at Austin City Limits Music Festival 20...</td>\n",
       "      <td>http://lyrics.wikia.com/Ghostland_Observatory:...</td>\n",
       "      <td>0.106483</td>\n",
       "      <td>0.093438</td>\n",
       "      <td>TRVGPHZ128F424E442</td>\n",
       "      <td>True</td>\n",
       "      <td>True</td>\n",
       "      <td>False</td>\n",
       "      <td>120.882353</td>\n",
       "    </tr>\n",
       "    <tr>\n",
       "      <th>841951</th>\n",
       "      <td>Talking In Your Sleep</td>\n",
       "      <td>55618</td>\n",
       "      <td>Crystal Gayle</td>\n",
       "      <td>[244060, 308877, 1699301, 1925092, 2015916, 52...</td>\n",
       "      <td>['EMI Country Masters', 'Crystal Gayle: The Hi...</td>\n",
       "      <td>http://lyrics.wikia.com/Crystal_Gayle:Talking_...</td>\n",
       "      <td>-0.334536</td>\n",
       "      <td>-0.459333</td>\n",
       "      <td>TRIBGHS128F1461861</td>\n",
       "      <td>True</td>\n",
       "      <td>True</td>\n",
       "      <td>False</td>\n",
       "      <td>120.230769</td>\n",
       "    </tr>\n",
       "  </tbody>\n",
       "</table>\n",
       "</div>"
      ],
      "text/plain": [
       "                                     track  artist_id                 artist  \\\n",
       "track_id                                                                       \n",
       "176516           20.000 Miles Over the Sea         48                 Enigma   \n",
       "361822                    Bury Me in Vegas      14005         Eskimo Callboy   \n",
       "2746593                           Whatever      16858                4minute   \n",
       "362676    Youth Gone Wild (Skid Row cover)       8988      Asking Alexandria   \n",
       "34135                  Slow Emotion Replay       6167                The The   \n",
       "177                        Gravity of Love         48                 Enigma   \n",
       "840071                  Going Nowhere Fast      18713            Joey Ramone   \n",
       "993722                          We Believe      59718             David Cook   \n",
       "639125                         Silver City      67671  Ghostland Observatory   \n",
       "841951               Talking In Your Sleep      55618          Crystal Gayle   \n",
       "\n",
       "                                                  albums_id  \\\n",
       "track_id                                                      \n",
       "176516                                         [917, 60733]   \n",
       "361822                                             [125035]   \n",
       "2746593                          [134302, 1097460, 4794617]   \n",
       "362676                              [84931, 118455, 125624]   \n",
       "34135     [12317, 67220, 233928, 319619, 319624, 339975,...   \n",
       "177       [72, 336, 1489, 10686, 60702, 195575, 195621, ...   \n",
       "840071                    [308233, 339655, 464406, 1352501]   \n",
       "993722                   [185432, 345497, 3655166, 4282962]   \n",
       "639125                   [229029, 400187, 1467560, 9877205]   \n",
       "841951    [244060, 308877, 1699301, 1925092, 2015916, 52...   \n",
       "\n",
       "                                                     albums  \\\n",
       "track_id                                                      \n",
       "176516           ['A Posteriori', 'A Posteriori (Advance)']   \n",
       "361822                                 ['Bury Me in Vegas']   \n",
       "2746593   ['Name Is 4minute', 'Name Is 4minute', 'Name I...   \n",
       "362676    ['Life Gone Wild', 'Life Gone Wild EP', 'Life ...   \n",
       "34135     ['Dusk', 'London Town 1983-1993', '45 RPM: The...   \n",
       "177       ['Love Sensuality Devotion - The Greatest Hits...   \n",
       "840071    ['ya know', '...ya know?', '...ya know?', 'Ya ...   \n",
       "993722    ['This Loud Morning (Deluxe Version)', 'This L...   \n",
       "639125    ['Live at Austin City Limits Music Festival 20...   \n",
       "841951    ['EMI Country Masters', 'Crystal Gayle: The Hi...   \n",
       "\n",
       "                                                    urlSong  \\\n",
       "track_id                                                      \n",
       "176516    http://lyrics.wikia.com/Enigma:20.000_Miles_Ov...   \n",
       "361822    http://lyrics.wikia.com/Eskimo_Callboy:Bury_Me...   \n",
       "2746593                                                None   \n",
       "362676                                                 None   \n",
       "34135     http://lyrics.wikia.com/The_The:Slow_Emotion_R...   \n",
       "177          http://lyrics.wikia.com/Enigma:Gravity_Of_Love   \n",
       "840071    http://lyrics.wikia.com/Joey_Ramone:Going_Nowh...   \n",
       "993722        http://lyrics.wikia.com/David_Cook:We_Believe   \n",
       "639125    http://lyrics.wikia.com/Ghostland_Observatory:...   \n",
       "841951    http://lyrics.wikia.com/Crystal_Gayle:Talking_...   \n",
       "\n",
       "          arousal_predicted  valence_predicted           lastfm_id  \\\n",
       "track_id                                                             \n",
       "176516            -0.076169          -0.118055  TRXFLYS128EF3553D4   \n",
       "361822             0.258987          -0.205667                None   \n",
       "2746593                 NaN                NaN                None   \n",
       "362676                  NaN                NaN                None   \n",
       "34135              0.122632          -0.443743                None   \n",
       "177               -0.216604           0.197573  TRQSKNG128F146A48C   \n",
       "840071             0.193137          -0.180341                None   \n",
       "993722            -0.025612           0.159226                None   \n",
       "639125             0.106483           0.093438  TRVGPHZ128F424E442   \n",
       "841951            -0.334536          -0.459333  TRIBGHS128F1461861   \n",
       "\n",
       "         has_emotion_tags has_social_tags isClassic  avg_play_count  \n",
       "track_id                                                             \n",
       "176516               True            True     False      261.692308  \n",
       "361822               None            None     False      239.464286  \n",
       "2746593              None            None      None      189.600000  \n",
       "362676               None            None      None      175.133333  \n",
       "34135                None            None     False      136.947368  \n",
       "177                  True            True     False      130.071429  \n",
       "840071               None            None     False      129.750000  \n",
       "993722               None            None     False      127.100000  \n",
       "639125               True            True     False      120.882353  \n",
       "841951               True            True     False      120.230769  "
      ]
     },
     "execution_count": 26,
     "metadata": {},
     "output_type": "execute_result"
    }
   ],
   "source": [
    "top_by_user = avg_play_count.iloc[avg_play_count.argsort().values[:-(K+1):-1]]\n",
    "top_by_user.name = \"avg_play_count\"\n",
    "dataset.df_tracks.loc[top_by_user.index].join(top_by_user)"
   ]
  },
  {
   "cell_type": "markdown",
   "id": "49a317c0",
   "metadata": {
    "papermill": {
     "duration": 0.025157,
     "end_time": "2022-08-04T18:53:47.710709",
     "exception": false,
     "start_time": "2022-08-04T18:53:47.685552",
     "status": "completed"
    },
    "tags": []
   },
   "source": [
    "Here it is a new piece of information: the top 10 tracks by number of play counts is completely different than the one by number of distinct users."
   ]
  },
  {
   "cell_type": "code",
   "execution_count": 27,
   "id": "46b57406",
   "metadata": {
    "execution": {
     "iopub.execute_input": "2022-08-04T18:53:47.763703Z",
     "iopub.status.busy": "2022-08-04T18:53:47.762658Z",
     "iopub.status.idle": "2022-08-04T18:53:47.898445Z",
     "shell.execute_reply": "2022-08-04T18:53:47.897360Z"
    },
    "papermill": {
     "duration": 0.165165,
     "end_time": "2022-08-04T18:53:47.901087",
     "exception": false,
     "start_time": "2022-08-04T18:53:47.735922",
     "status": "completed"
    },
    "tags": []
   },
   "outputs": [],
   "source": [
    "# Cleanup..\n",
    "del gb_track\n",
    "del avg_play_count\n",
    "del track_records\n",
    "del top_by_user\n",
    "_ = gc.collect()"
   ]
  },
  {
   "cell_type": "markdown",
   "id": "e508d0b3",
   "metadata": {
    "papermill": {
     "duration": 0.025331,
     "end_time": "2022-08-04T18:53:47.951783",
     "exception": false,
     "start_time": "2022-08-04T18:53:47.926452",
     "status": "completed"
    },
    "tags": []
   },
   "source": [
    "## EDA on Users \n",
    "\n",
    "Let's move to users now."
   ]
  },
  {
   "cell_type": "code",
   "execution_count": 28,
   "id": "bbdb4531",
   "metadata": {
    "execution": {
     "iopub.execute_input": "2022-08-04T18:53:48.005216Z",
     "iopub.status.busy": "2022-08-04T18:53:48.004525Z",
     "iopub.status.idle": "2022-08-04T18:53:48.009177Z",
     "shell.execute_reply": "2022-08-04T18:53:48.008281Z"
    },
    "papermill": {
     "duration": 0.034019,
     "end_time": "2022-08-04T18:53:48.011493",
     "exception": false,
     "start_time": "2022-08-04T18:53:47.977474",
     "status": "completed"
    },
    "tags": []
   },
   "outputs": [],
   "source": [
    "gb_user = train.groupby(\"user_id\")"
   ]
  },
  {
   "cell_type": "code",
   "execution_count": 29,
   "id": "839acd37",
   "metadata": {
    "execution": {
     "iopub.execute_input": "2022-08-04T18:53:48.064223Z",
     "iopub.status.busy": "2022-08-04T18:53:48.063718Z",
     "iopub.status.idle": "2022-08-04T18:53:48.259533Z",
     "shell.execute_reply": "2022-08-04T18:53:48.258148Z"
    },
    "papermill": {
     "duration": 0.225806,
     "end_time": "2022-08-04T18:53:48.262550",
     "exception": false,
     "start_time": "2022-08-04T18:53:48.036744",
     "status": "completed"
    },
    "tags": []
   },
   "outputs": [],
   "source": [
    "user_records = gb_user.size()"
   ]
  },
  {
   "cell_type": "code",
   "execution_count": 30,
   "id": "5443265f",
   "metadata": {
    "execution": {
     "iopub.execute_input": "2022-08-04T18:53:48.316159Z",
     "iopub.status.busy": "2022-08-04T18:53:48.315375Z",
     "iopub.status.idle": "2022-08-04T18:53:48.327348Z",
     "shell.execute_reply": "2022-08-04T18:53:48.326077Z"
    },
    "papermill": {
     "duration": 0.041812,
     "end_time": "2022-08-04T18:53:48.330105",
     "exception": false,
     "start_time": "2022-08-04T18:53:48.288293",
     "status": "completed"
    },
    "tags": []
   },
   "outputs": [
    {
     "data": {
      "text/plain": [
       "count    29722.000000\n",
       "mean       231.131115\n",
       "std        108.109476\n",
       "min          9.000000\n",
       "0%           9.000000\n",
       "10%         76.000000\n",
       "20%        127.000000\n",
       "30%        168.000000\n",
       "40%        205.000000\n",
       "50%        237.000000\n",
       "60%        268.000000\n",
       "70%        298.000000\n",
       "80%        332.000000\n",
       "90%        372.000000\n",
       "max        496.000000\n",
       "dtype: float64"
      ]
     },
     "execution_count": 30,
     "metadata": {},
     "output_type": "execute_result"
    }
   ],
   "source": [
    "user_records.describe(percentiles=percentiles)"
   ]
  },
  {
   "cell_type": "markdown",
   "id": "34bb51fb",
   "metadata": {},
   "source": [
    "plotting the age distribution"
   ]
  },
  {
   "cell_type": "code",
   "execution_count": 51,
   "id": "008befa5",
   "metadata": {},
   "outputs": [
    {
     "data": {
      "image/png": "[encoded data removed]",
      "text/plain": [
       "<Figure size 1000x600 with 1 Axes>"
      ]
     },
     "metadata": {},
     "output_type": "display_data"
    }
   ],
   "source": [
    "import matplotlib.pyplot as plt\n",
    "import seaborn as sns\n",
    "\n",
    "users = dataset.df_users\n",
    "\n",
    "# Assuming 'users' is your DataFrame and it contains an 'age' column\n",
    "# First, filter out invalid ages if necessary (e.g., ages less than 0)\n",
    "valid_ages = users[users['age'] > 0]['age']\n",
    "\n",
    "plt.figure(figsize=(10, 6))\n",
    "sns.histplot(valid_ages, bins=30, kde=False)\n",
    "plt.title('Age Distribution')\n",
    "plt.xlabel('Age')\n",
    "plt.ylabel('Count')\n",
    "plt.show()\n"
   ]
  },
  {
   "cell_type": "markdown",
   "id": "bd824512",
   "metadata": {},
   "source": [
    "Based on the age distribution visible in the histogram, it seems that a significant proportion of your users are in the 20-30 age range, with fewer users as the age increases. Here’s a suggested segmentation based on typical life stages, which often correspond to different music listening preferences:\n",
    "\n",
    "- Younger than 18 (Youth): This group is usually more into contemporary and trending music.\n",
    "- 18-24 (Young Adults): College-age listeners who might have eclectic music preferences that include both contemporary hits and emerging indie artists.\n",
    "- 25-34 (Early Career): Listeners who may start diversifying their music tastes with both new hits and classics.\n",
    "- 35-44 (Mid-Career): This group might prefer a mix of new music and the music from their youth.\n",
    "- 45-54 (Established Adults): Listeners who may value classic hits more and may not follow new music trends as closely.\n",
    "- 55 and older (Seniors): This segment may have the most distinct tastes, possibly favoring older classics and less of the contemporary music."
   ]
  },
  {
   "cell_type": "markdown",
   "id": "169f6fcc",
   "metadata": {
    "papermill": {
     "duration": 0.026068,
     "end_time": "2022-08-04T18:53:48.381779",
     "exception": false,
     "start_time": "2022-08-04T18:53:48.355711",
     "status": "completed"
    },
    "tags": []
   },
   "source": [
    "There are almost 30K distinct users in our dataset. The average number of song they played is 232 with some binge listener that made it to 494.\n",
    "\n",
    "What about their demographics?"
   ]
  },
  {
   "cell_type": "code",
   "execution_count": 31,
   "id": "4ae84755",
   "metadata": {
    "execution": {
     "iopub.execute_input": "2022-08-04T18:53:48.435402Z",
     "iopub.status.busy": "2022-08-04T18:53:48.434940Z",
     "iopub.status.idle": "2022-08-04T18:53:52.388673Z",
     "shell.execute_reply": "2022-08-04T18:53:52.387259Z"
    },
    "papermill": {
     "duration": 3.983848,
     "end_time": "2022-08-04T18:53:52.391634",
     "exception": false,
     "start_time": "2022-08-04T18:53:48.407786",
     "status": "completed"
    },
    "tags": []
   },
   "outputs": [],
   "source": [
    "train_users = train.join(dataset.df_users, on=\"user_id\", rsuffix=\"_data\")"
   ]
  },
  {
   "cell_type": "code",
   "execution_count": 44,
   "id": "8bffcaf1",
   "metadata": {},
   "outputs": [
    {
     "data": {
      "text/html": [
       "<div>\n",
       "<style scoped>\n",
       "    .dataframe tbody tr th:only-of-type {\n",
       "        vertical-align: middle;\n",
       "    }\n",
       "\n",
       "    .dataframe tbody tr th {\n",
       "        vertical-align: top;\n",
       "    }\n",
       "\n",
       "    .dataframe thead th {\n",
       "        text-align: right;\n",
       "    }\n",
       "</style>\n",
       "<table border=\"1\" class=\"dataframe\">\n",
       "  <thead>\n",
       "    <tr style=\"text-align: right;\">\n",
       "      <th></th>\n",
       "      <th>country</th>\n",
       "      <th>age</th>\n",
       "      <th>gender</th>\n",
       "      <th>playcount</th>\n",
       "      <th>registered_unixtime</th>\n",
       "      <th>country_id</th>\n",
       "      <th>gender_id</th>\n",
       "      <th>novelty_artist_avg_month</th>\n",
       "      <th>novelty_artist_avg_6months</th>\n",
       "      <th>novelty_artist_avg_year</th>\n",
       "      <th>...</th>\n",
       "      <th>relative_le_per_hour14</th>\n",
       "      <th>relative_le_per_hour15</th>\n",
       "      <th>relative_le_per_hour16</th>\n",
       "      <th>relative_le_per_hour17</th>\n",
       "      <th>relative_le_per_hour18</th>\n",
       "      <th>relative_le_per_hour19</th>\n",
       "      <th>relative_le_per_hour20</th>\n",
       "      <th>relative_le_per_hour21</th>\n",
       "      <th>relative_le_per_hour22</th>\n",
       "      <th>relative_le_per_hour23</th>\n",
       "    </tr>\n",
       "    <tr>\n",
       "      <th>user_id</th>\n",
       "      <th></th>\n",
       "      <th></th>\n",
       "      <th></th>\n",
       "      <th></th>\n",
       "      <th></th>\n",
       "      <th></th>\n",
       "      <th></th>\n",
       "      <th></th>\n",
       "      <th></th>\n",
       "      <th></th>\n",
       "      <th></th>\n",
       "      <th></th>\n",
       "      <th></th>\n",
       "      <th></th>\n",
       "      <th></th>\n",
       "      <th></th>\n",
       "      <th></th>\n",
       "      <th></th>\n",
       "      <th></th>\n",
       "      <th></th>\n",
       "      <th></th>\n",
       "    </tr>\n",
       "  </thead>\n",
       "  <tbody>\n",
       "    <tr>\n",
       "      <th>384</th>\n",
       "      <td>UK</td>\n",
       "      <td>35</td>\n",
       "      <td>m</td>\n",
       "      <td>42139</td>\n",
       "      <td>1035849600</td>\n",
       "      <td>0</td>\n",
       "      <td>0</td>\n",
       "      <td>0.276629</td>\n",
       "      <td>0.044439</td>\n",
       "      <td>0.309429</td>\n",
       "      <td>...</td>\n",
       "      <td>0.0279</td>\n",
       "      <td>0.0410</td>\n",
       "      <td>0.0811</td>\n",
       "      <td>0.1506</td>\n",
       "      <td>0.0377</td>\n",
       "      <td>0.0298</td>\n",
       "      <td>0.0132</td>\n",
       "      <td>0.0007</td>\n",
       "      <td>0.0001</td>\n",
       "      <td>0.0151</td>\n",
       "    </tr>\n",
       "    <tr>\n",
       "      <th>1206</th>\n",
       "      <td>None</td>\n",
       "      <td>-1</td>\n",
       "      <td>n</td>\n",
       "      <td>33103</td>\n",
       "      <td>1035849600</td>\n",
       "      <td>-1</td>\n",
       "      <td>1</td>\n",
       "      <td>0.437224</td>\n",
       "      <td>0.109671</td>\n",
       "      <td>0.513787</td>\n",
       "      <td>...</td>\n",
       "      <td>0.0016</td>\n",
       "      <td>0.0115</td>\n",
       "      <td>0.0276</td>\n",
       "      <td>0.0662</td>\n",
       "      <td>0.0790</td>\n",
       "      <td>0.0838</td>\n",
       "      <td>0.0995</td>\n",
       "      <td>0.1195</td>\n",
       "      <td>0.0968</td>\n",
       "      <td>0.0839</td>\n",
       "    </tr>\n",
       "    <tr>\n",
       "      <th>2622</th>\n",
       "      <td>None</td>\n",
       "      <td>-1</td>\n",
       "      <td>None</td>\n",
       "      <td>2030</td>\n",
       "      <td>1037404800</td>\n",
       "      <td>-1</td>\n",
       "      <td>-1</td>\n",
       "      <td>0.604828</td>\n",
       "      <td>0.043923</td>\n",
       "      <td>0.698983</td>\n",
       "      <td>...</td>\n",
       "      <td>0.1320</td>\n",
       "      <td>0.0493</td>\n",
       "      <td>0.0317</td>\n",
       "      <td>0.0470</td>\n",
       "      <td>0.0658</td>\n",
       "      <td>0.1127</td>\n",
       "      <td>0.1112</td>\n",
       "      <td>0.0680</td>\n",
       "      <td>0.0437</td>\n",
       "      <td>0.0254</td>\n",
       "    </tr>\n",
       "    <tr>\n",
       "      <th>2732</th>\n",
       "      <td>None</td>\n",
       "      <td>-1</td>\n",
       "      <td>n</td>\n",
       "      <td>147</td>\n",
       "      <td>1037577600</td>\n",
       "      <td>-1</td>\n",
       "      <td>1</td>\n",
       "      <td>0.756973</td>\n",
       "      <td>0.020071</td>\n",
       "      <td>0.882801</td>\n",
       "      <td>...</td>\n",
       "      <td>0.0598</td>\n",
       "      <td>0.0726</td>\n",
       "      <td>0.0171</td>\n",
       "      <td>0.0342</td>\n",
       "      <td>0.0769</td>\n",
       "      <td>0.1453</td>\n",
       "      <td>0.0470</td>\n",
       "      <td>0.0513</td>\n",
       "      <td>0.0085</td>\n",
       "      <td>0.0128</td>\n",
       "    </tr>\n",
       "    <tr>\n",
       "      <th>3653</th>\n",
       "      <td>UK</td>\n",
       "      <td>31</td>\n",
       "      <td>m</td>\n",
       "      <td>18504</td>\n",
       "      <td>1041033600</td>\n",
       "      <td>0</td>\n",
       "      <td>0</td>\n",
       "      <td>0.380005</td>\n",
       "      <td>0.045207</td>\n",
       "      <td>0.424411</td>\n",
       "      <td>...</td>\n",
       "      <td>0.0541</td>\n",
       "      <td>0.0518</td>\n",
       "      <td>0.0564</td>\n",
       "      <td>0.0554</td>\n",
       "      <td>0.0849</td>\n",
       "      <td>0.0954</td>\n",
       "      <td>0.0833</td>\n",
       "      <td>0.0657</td>\n",
       "      <td>0.0471</td>\n",
       "      <td>0.0595</td>\n",
       "    </tr>\n",
       "  </tbody>\n",
       "</table>\n",
       "<p>5 rows × 49 columns</p>\n",
       "</div>"
      ],
      "text/plain": [
       "        country  age gender  playcount  registered_unixtime  country_id  \\\n",
       "user_id                                                                   \n",
       "384          UK   35      m      42139           1035849600           0   \n",
       "1206       None   -1      n      33103           1035849600          -1   \n",
       "2622       None   -1   None       2030           1037404800          -1   \n",
       "2732       None   -1      n        147           1037577600          -1   \n",
       "3653         UK   31      m      18504           1041033600           0   \n",
       "\n",
       "         gender_id  novelty_artist_avg_month  novelty_artist_avg_6months  \\\n",
       "user_id                                                                    \n",
       "384              0                  0.276629                    0.044439   \n",
       "1206             1                  0.437224                    0.109671   \n",
       "2622            -1                  0.604828                    0.043923   \n",
       "2732             1                  0.756973                    0.020071   \n",
       "3653             0                  0.380005                    0.045207   \n",
       "\n",
       "         novelty_artist_avg_year  ...  relative_le_per_hour14  \\\n",
       "user_id                           ...                           \n",
       "384                     0.309429  ...                  0.0279   \n",
       "1206                    0.513787  ...                  0.0016   \n",
       "2622                    0.698983  ...                  0.1320   \n",
       "2732                    0.882801  ...                  0.0598   \n",
       "3653                    0.424411  ...                  0.0541   \n",
       "\n",
       "         relative_le_per_hour15  relative_le_per_hour16  \\\n",
       "user_id                                                   \n",
       "384                      0.0410                  0.0811   \n",
       "1206                     0.0115                  0.0276   \n",
       "2622                     0.0493                  0.0317   \n",
       "2732                     0.0726                  0.0171   \n",
       "3653                     0.0518                  0.0564   \n",
       "\n",
       "         relative_le_per_hour17  relative_le_per_hour18  \\\n",
       "user_id                                                   \n",
       "384                      0.1506                  0.0377   \n",
       "1206                     0.0662                  0.0790   \n",
       "2622                     0.0470                  0.0658   \n",
       "2732                     0.0342                  0.0769   \n",
       "3653                     0.0554                  0.0849   \n",
       "\n",
       "         relative_le_per_hour19  relative_le_per_hour20  \\\n",
       "user_id                                                   \n",
       "384                      0.0298                  0.0132   \n",
       "1206                     0.0838                  0.0995   \n",
       "2622                     0.1127                  0.1112   \n",
       "2732                     0.1453                  0.0470   \n",
       "3653                     0.0954                  0.0833   \n",
       "\n",
       "         relative_le_per_hour21  relative_le_per_hour22  \\\n",
       "user_id                                                   \n",
       "384                      0.0007                  0.0001   \n",
       "1206                     0.1195                  0.0968   \n",
       "2622                     0.0680                  0.0437   \n",
       "2732                     0.0513                  0.0085   \n",
       "3653                     0.0657                  0.0471   \n",
       "\n",
       "         relative_le_per_hour23  \n",
       "user_id                          \n",
       "384                      0.0151  \n",
       "1206                     0.0839  \n",
       "2622                     0.0254  \n",
       "2732                     0.0128  \n",
       "3653                     0.0595  \n",
       "\n",
       "[5 rows x 49 columns]"
      ]
     },
     "execution_count": 44,
     "metadata": {},
     "output_type": "execute_result"
    }
   ],
   "source": [
    "dataset.df_users.head()"
   ]
  },
  {
   "cell_type": "code",
   "execution_count": 41,
   "id": "fd497f1f",
   "metadata": {},
   "outputs": [
    {
     "data": {
      "text/html": [
       "<div>\n",
       "<style scoped>\n",
       "    .dataframe tbody tr th:only-of-type {\n",
       "        vertical-align: middle;\n",
       "    }\n",
       "\n",
       "    .dataframe tbody tr th {\n",
       "        vertical-align: top;\n",
       "    }\n",
       "\n",
       "    .dataframe thead th {\n",
       "        text-align: right;\n",
       "    }\n",
       "</style>\n",
       "<table border=\"1\" class=\"dataframe\">\n",
       "  <thead>\n",
       "    <tr style=\"text-align: right;\">\n",
       "      <th></th>\n",
       "      <th>user_id</th>\n",
       "      <th>artist_id</th>\n",
       "      <th>album_id</th>\n",
       "      <th>track_id</th>\n",
       "      <th>timestamp</th>\n",
       "      <th>user_track_count</th>\n",
       "      <th>hod</th>\n",
       "      <th>country</th>\n",
       "      <th>age</th>\n",
       "      <th>gender</th>\n",
       "      <th>...</th>\n",
       "      <th>relative_le_per_hour14</th>\n",
       "      <th>relative_le_per_hour15</th>\n",
       "      <th>relative_le_per_hour16</th>\n",
       "      <th>relative_le_per_hour17</th>\n",
       "      <th>relative_le_per_hour18</th>\n",
       "      <th>relative_le_per_hour19</th>\n",
       "      <th>relative_le_per_hour20</th>\n",
       "      <th>relative_le_per_hour21</th>\n",
       "      <th>relative_le_per_hour22</th>\n",
       "      <th>relative_le_per_hour23</th>\n",
       "    </tr>\n",
       "  </thead>\n",
       "  <tbody>\n",
       "    <tr>\n",
       "      <th>0</th>\n",
       "      <td>50967444</td>\n",
       "      <td>3059</td>\n",
       "      <td>114114</td>\n",
       "      <td>336613</td>\n",
       "      <td>2014-09-01 02:20:54</td>\n",
       "      <td>1</td>\n",
       "      <td>2</td>\n",
       "      <td>None</td>\n",
       "      <td>16</td>\n",
       "      <td>n</td>\n",
       "      <td>...</td>\n",
       "      <td>0.0153</td>\n",
       "      <td>0.0292</td>\n",
       "      <td>0.0422</td>\n",
       "      <td>0.0438</td>\n",
       "      <td>0.0547</td>\n",
       "      <td>0.0508</td>\n",
       "      <td>0.0428</td>\n",
       "      <td>0.046</td>\n",
       "      <td>0.0575</td>\n",
       "      <td>0.0568</td>\n",
       "    </tr>\n",
       "    <tr>\n",
       "      <th>1</th>\n",
       "      <td>50967444</td>\n",
       "      <td>3059</td>\n",
       "      <td>114114</td>\n",
       "      <td>336156</td>\n",
       "      <td>2014-09-01 02:18:36</td>\n",
       "      <td>1</td>\n",
       "      <td>2</td>\n",
       "      <td>None</td>\n",
       "      <td>16</td>\n",
       "      <td>n</td>\n",
       "      <td>...</td>\n",
       "      <td>0.0153</td>\n",
       "      <td>0.0292</td>\n",
       "      <td>0.0422</td>\n",
       "      <td>0.0438</td>\n",
       "      <td>0.0547</td>\n",
       "      <td>0.0508</td>\n",
       "      <td>0.0428</td>\n",
       "      <td>0.046</td>\n",
       "      <td>0.0575</td>\n",
       "      <td>0.0568</td>\n",
       "    </tr>\n",
       "    <tr>\n",
       "      <th>2</th>\n",
       "      <td>50967444</td>\n",
       "      <td>3059</td>\n",
       "      <td>114114</td>\n",
       "      <td>339139</td>\n",
       "      <td>2014-09-01 02:15:12</td>\n",
       "      <td>1</td>\n",
       "      <td>2</td>\n",
       "      <td>None</td>\n",
       "      <td>16</td>\n",
       "      <td>n</td>\n",
       "      <td>...</td>\n",
       "      <td>0.0153</td>\n",
       "      <td>0.0292</td>\n",
       "      <td>0.0422</td>\n",
       "      <td>0.0438</td>\n",
       "      <td>0.0547</td>\n",
       "      <td>0.0508</td>\n",
       "      <td>0.0428</td>\n",
       "      <td>0.046</td>\n",
       "      <td>0.0575</td>\n",
       "      <td>0.0568</td>\n",
       "    </tr>\n",
       "    <tr>\n",
       "      <th>4</th>\n",
       "      <td>50967444</td>\n",
       "      <td>677</td>\n",
       "      <td>3035</td>\n",
       "      <td>674449</td>\n",
       "      <td>2014-09-01 00:56:28</td>\n",
       "      <td>1</td>\n",
       "      <td>0</td>\n",
       "      <td>None</td>\n",
       "      <td>16</td>\n",
       "      <td>n</td>\n",
       "      <td>...</td>\n",
       "      <td>0.0153</td>\n",
       "      <td>0.0292</td>\n",
       "      <td>0.0422</td>\n",
       "      <td>0.0438</td>\n",
       "      <td>0.0547</td>\n",
       "      <td>0.0508</td>\n",
       "      <td>0.0428</td>\n",
       "      <td>0.046</td>\n",
       "      <td>0.0575</td>\n",
       "      <td>0.0568</td>\n",
       "    </tr>\n",
       "    <tr>\n",
       "      <th>5</th>\n",
       "      <td>50967444</td>\n",
       "      <td>677</td>\n",
       "      <td>3035</td>\n",
       "      <td>639652</td>\n",
       "      <td>2014-09-01 00:40:15</td>\n",
       "      <td>1</td>\n",
       "      <td>0</td>\n",
       "      <td>None</td>\n",
       "      <td>16</td>\n",
       "      <td>n</td>\n",
       "      <td>...</td>\n",
       "      <td>0.0153</td>\n",
       "      <td>0.0292</td>\n",
       "      <td>0.0422</td>\n",
       "      <td>0.0438</td>\n",
       "      <td>0.0547</td>\n",
       "      <td>0.0508</td>\n",
       "      <td>0.0428</td>\n",
       "      <td>0.046</td>\n",
       "      <td>0.0575</td>\n",
       "      <td>0.0568</td>\n",
       "    </tr>\n",
       "  </tbody>\n",
       "</table>\n",
       "<p>5 rows × 56 columns</p>\n",
       "</div>"
      ],
      "text/plain": [
       "    user_id  artist_id  album_id  track_id           timestamp  \\\n",
       "0  50967444       3059    114114    336613 2014-09-01 02:20:54   \n",
       "1  50967444       3059    114114    336156 2014-09-01 02:18:36   \n",
       "2  50967444       3059    114114    339139 2014-09-01 02:15:12   \n",
       "4  50967444        677      3035    674449 2014-09-01 00:56:28   \n",
       "5  50967444        677      3035    639652 2014-09-01 00:40:15   \n",
       "\n",
       "   user_track_count  hod country  age gender  ...  relative_le_per_hour14  \\\n",
       "0                 1    2    None   16      n  ...                  0.0153   \n",
       "1                 1    2    None   16      n  ...                  0.0153   \n",
       "2                 1    2    None   16      n  ...                  0.0153   \n",
       "4                 1    0    None   16      n  ...                  0.0153   \n",
       "5                 1    0    None   16      n  ...                  0.0153   \n",
       "\n",
       "   relative_le_per_hour15  relative_le_per_hour16  relative_le_per_hour17  \\\n",
       "0                  0.0292                  0.0422                  0.0438   \n",
       "1                  0.0292                  0.0422                  0.0438   \n",
       "2                  0.0292                  0.0422                  0.0438   \n",
       "4                  0.0292                  0.0422                  0.0438   \n",
       "5                  0.0292                  0.0422                  0.0438   \n",
       "\n",
       "   relative_le_per_hour18  relative_le_per_hour19  relative_le_per_hour20  \\\n",
       "0                  0.0547                  0.0508                  0.0428   \n",
       "1                  0.0547                  0.0508                  0.0428   \n",
       "2                  0.0547                  0.0508                  0.0428   \n",
       "4                  0.0547                  0.0508                  0.0428   \n",
       "5                  0.0547                  0.0508                  0.0428   \n",
       "\n",
       "   relative_le_per_hour21  relative_le_per_hour22  relative_le_per_hour23  \n",
       "0                   0.046                  0.0575                  0.0568  \n",
       "1                   0.046                  0.0575                  0.0568  \n",
       "2                   0.046                  0.0575                  0.0568  \n",
       "4                   0.046                  0.0575                  0.0568  \n",
       "5                   0.046                  0.0575                  0.0568  \n",
       "\n",
       "[5 rows x 56 columns]"
      ]
     },
     "execution_count": 41,
     "metadata": {},
     "output_type": "execute_result"
    }
   ],
   "source": [
    "train_users.head()"
   ]
  },
  {
   "cell_type": "code",
   "execution_count": 32,
   "id": "878c9757",
   "metadata": {
    "execution": {
     "iopub.execute_input": "2022-08-04T18:53:52.444830Z",
     "iopub.status.busy": "2022-08-04T18:53:52.444369Z",
     "iopub.status.idle": "2022-08-04T18:53:52.451356Z",
     "shell.execute_reply": "2022-08-04T18:53:52.449782Z"
    },
    "papermill": {
     "duration": 0.036451,
     "end_time": "2022-08-04T18:53:52.453776",
     "exception": false,
     "start_time": "2022-08-04T18:53:52.417325",
     "status": "completed"
    },
    "tags": []
   },
   "outputs": [],
   "source": [
    "gb_train_users = train_users.groupby(\"user_id\")"
   ]
  },
  {
   "cell_type": "code",
   "execution_count": 33,
   "id": "a19ab075",
   "metadata": {
    "execution": {
     "iopub.execute_input": "2022-08-04T18:53:52.507027Z",
     "iopub.status.busy": "2022-08-04T18:53:52.506352Z",
     "iopub.status.idle": "2022-08-04T18:54:01.634023Z",
     "shell.execute_reply": "2022-08-04T18:54:01.632893Z"
    },
    "papermill": {
     "duration": 9.15739,
     "end_time": "2022-08-04T18:54:01.636691",
     "exception": false,
     "start_time": "2022-08-04T18:53:52.479301",
     "status": "completed"
    },
    "tags": []
   },
   "outputs": [
    {
     "data": {
      "text/plain": [
       "gender\n",
       "n       0.531088\n",
       "m       0.336619\n",
       "f       0.130577\n",
       "None    0.001716\n",
       "Name: proportion, dtype: float64"
      ]
     },
     "execution_count": 33,
     "metadata": {},
     "output_type": "execute_result"
    }
   ],
   "source": [
    "gb_train_users.first().gender.value_counts(normalize=True, dropna=False)"
   ]
  },
  {
   "cell_type": "markdown",
   "id": "1eb15cab",
   "metadata": {
    "papermill": {
     "duration": 0.025498,
     "end_time": "2022-08-04T18:54:01.687761",
     "exception": false,
     "start_time": "2022-08-04T18:54:01.662263",
     "status": "completed"
    },
    "tags": []
   },
   "source": [
    "Only half of our users are annotated with (binary) gender, and there is a significant skew towards males."
   ]
  },
  {
   "cell_type": "code",
   "execution_count": 34,
   "id": "f894a192",
   "metadata": {
    "execution": {
     "iopub.execute_input": "2022-08-04T18:54:01.743164Z",
     "iopub.status.busy": "2022-08-04T18:54:01.742331Z",
     "iopub.status.idle": "2022-08-04T18:54:04.777422Z",
     "shell.execute_reply": "2022-08-04T18:54:04.776428Z"
    },
    "papermill": {
     "duration": 3.066173,
     "end_time": "2022-08-04T18:54:04.779919",
     "exception": false,
     "start_time": "2022-08-04T18:54:01.713746",
     "status": "completed"
    },
    "tags": []
   },
   "outputs": [
    {
     "data": {
      "text/plain": [
       "country\n",
       "None    0.536236\n",
       "US      0.086939\n",
       "RU      0.042662\n",
       "UK      0.037817\n",
       "DE      0.037582\n",
       "          ...   \n",
       "PS      0.000034\n",
       "DJ      0.000034\n",
       "FJ      0.000034\n",
       "KW      0.000034\n",
       "ZW      0.000034\n",
       "Name: proportion, Length: 163, dtype: float64"
      ]
     },
     "execution_count": 34,
     "metadata": {},
     "output_type": "execute_result"
    }
   ],
   "source": [
    "users_by_country = gb_train_users.first().country.value_counts(normalize=True, sort=True, ascending=False, dropna=False)\n",
    "users_by_country"
   ]
  },
  {
   "cell_type": "code",
   "execution_count": 35,
   "id": "19cd4c30",
   "metadata": {
    "execution": {
     "iopub.execute_input": "2022-08-04T18:54:04.832656Z",
     "iopub.status.busy": "2022-08-04T18:54:04.832251Z",
     "iopub.status.idle": "2022-08-04T18:54:07.657588Z",
     "shell.execute_reply": "2022-08-04T18:54:07.656464Z"
    },
    "papermill": {
     "duration": 2.854927,
     "end_time": "2022-08-04T18:54:07.660471",
     "exception": false,
     "start_time": "2022-08-04T18:54:04.805544",
     "status": "completed"
    },
    "tags": []
   },
   "outputs": [
    {
     "data": {
      "text/plain": [
       "country\n",
       "US    2584\n",
       "RU    1268\n",
       "UK    1124\n",
       "DE    1117\n",
       "PL    1094\n",
       "BR     975\n",
       "FI     395\n",
       "NL     367\n",
       "ES     328\n",
       "UA     300\n",
       "Name: count, dtype: int64"
      ]
     },
     "execution_count": 35,
     "metadata": {},
     "output_type": "execute_result"
    }
   ],
   "source": [
    "top_countries = gb_train_users.first().country.value_counts(dropna=True, sort=True, ascending=False)[:10]\n",
    "top_countries"
   ]
  },
  {
   "cell_type": "code",
   "execution_count": 36,
   "id": "e46b2616",
   "metadata": {
    "execution": {
     "iopub.execute_input": "2022-08-04T18:54:07.714796Z",
     "iopub.status.busy": "2022-08-04T18:54:07.714379Z",
     "iopub.status.idle": "2022-08-04T18:54:07.980326Z",
     "shell.execute_reply": "2022-08-04T18:54:07.979373Z"
    },
    "papermill": {
     "duration": 0.296266,
     "end_time": "2022-08-04T18:54:07.982774",
     "exception": false,
     "start_time": "2022-08-04T18:54:07.686508",
     "status": "completed"
    },
    "tags": []
   },
   "outputs": [
    {
     "data": {
      "text/plain": [
       "Text(0, 0.5, 'Count')"
      ]
     },
     "execution_count": 36,
     "metadata": {},
     "output_type": "execute_result"
    },
    {
     "data": {
      "image/png": "[encoded data removed]",
      "text/plain": [
       "<Figure size 1200x800 with 1 Axes>"
      ]
     },
     "metadata": {},
     "output_type": "display_data"
    }
   ],
   "source": [
    "fig, ax = plt.subplots(figsize=(12,8))\n",
    "ax.bar(x=top_countries.index, height=top_countries.values)\n",
    "ax.set_xlabel(\"Country\")\n",
    "ax.set_ylabel(\"Count\")"
   ]
  },
  {
   "cell_type": "markdown",
   "id": "e3dc7203",
   "metadata": {
    "papermill": {
     "duration": 0.027142,
     "end_time": "2022-08-04T18:54:08.036914",
     "exception": false,
     "start_time": "2022-08-04T18:54:08.009772",
     "status": "completed"
    },
    "tags": []
   },
   "source": [
    "There are 158 distinct countries but only half of the users are annotated with that information. Most of the users was logged from the United States."
   ]
  },
  {
   "cell_type": "code",
   "execution_count": 37,
   "id": "656672aa",
   "metadata": {
    "execution": {
     "iopub.execute_input": "2022-08-04T18:54:08.092476Z",
     "iopub.status.busy": "2022-08-04T18:54:08.092020Z",
     "iopub.status.idle": "2022-08-04T18:54:08.297262Z",
     "shell.execute_reply": "2022-08-04T18:54:08.296027Z"
    },
    "papermill": {
     "duration": 0.23651,
     "end_time": "2022-08-04T18:54:08.299988",
     "exception": false,
     "start_time": "2022-08-04T18:54:08.063478",
     "status": "completed"
    },
    "tags": []
   },
   "outputs": [],
   "source": [
    "del gb_user\n",
    "del gb_train_users\n",
    "del top_countries\n",
    "_ = gc.collect()"
   ]
  },
  {
   "cell_type": "markdown",
   "id": "d3c1d013",
   "metadata": {
    "papermill": {
     "duration": 0.026839,
     "end_time": "2022-08-04T18:54:08.353229",
     "exception": false,
     "start_time": "2022-08-04T18:54:08.326390",
     "status": "completed"
    },
    "tags": []
   },
   "source": [
    "## Analysis on listening events\n",
    "\n",
    "We have explored relationships between users and tracks. But what about the playing time and hour? \n",
    "\n",
    "For example, one might search for any correlation between listening events and hour of the day. "
   ]
  },
  {
   "cell_type": "markdown",
   "id": "d0482b12",
   "metadata": {
    "papermill": {
     "duration": 0.025821,
     "end_time": "2022-08-04T18:54:08.405209",
     "exception": false,
     "start_time": "2022-08-04T18:54:08.379388",
     "status": "completed"
    },
    "tags": []
   },
   "source": [
    "**Q0: Is there any listening pattern across hours of the day?**"
   ]
  },
  {
   "cell_type": "code",
   "execution_count": 38,
   "id": "1b34d43d",
   "metadata": {},
   "outputs": [],
   "source": [
    "import seaborn as sns"
   ]
  },
  {
   "cell_type": "code",
   "execution_count": 39,
   "id": "25db8bba",
   "metadata": {
    "execution": {
     "iopub.execute_input": "2022-08-04T18:54:08.459840Z",
     "iopub.status.busy": "2022-08-04T18:54:08.459343Z",
     "iopub.status.idle": "2022-08-04T18:54:09.773923Z",
     "shell.execute_reply": "2022-08-04T18:54:09.772918Z"
    },
    "papermill": {
     "duration": 1.345106,
     "end_time": "2022-08-04T18:54:09.776370",
     "exception": false,
     "start_time": "2022-08-04T18:54:08.431264",
     "status": "completed"
    },
    "tags": []
   },
   "outputs": [
    {
     "data": {
      "text/plain": [
       "Text(0, 0.5, 'Count')"
      ]
     },
     "execution_count": 39,
     "metadata": {},
     "output_type": "execute_result"
    },
    {
     "data": {
      "image/png": "[encoded data removed]",
      "text/plain": [
       "<Figure size 1200x800 with 1 Axes>"
      ]
     },
     "metadata": {},
     "output_type": "display_data"
    }
   ],
   "source": [
    "fig, ax = plt.subplots(figsize=(12,8))\n",
    "ax = sns.countplot(data=train_users, x=\"hod\")\n",
    "ax.set_xlabel(\"Hour of the Day\")\n",
    "ax.set_ylabel(\"Count\")"
   ]
  },
  {
   "cell_type": "markdown",
   "id": "a9a3264d",
   "metadata": {
    "papermill": {
     "duration": 0.026285,
     "end_time": "2022-08-04T18:54:09.829371",
     "exception": false,
     "start_time": "2022-08-04T18:54:09.803086",
     "status": "completed"
    },
    "tags": []
   },
   "source": [
    "Remember that the `timestamp` attribute is in Unix time, i.e. it is absolute in terms of timezone. The chart is showing us that events are mainly located in a single timezone, as the events decrease in the morning and increase in late afternoon.   "
   ]
  },
  {
   "cell_type": "markdown",
   "id": "0d1b7ed3",
   "metadata": {
    "papermill": {
     "duration": 0.026515,
     "end_time": "2022-08-04T18:54:09.882335",
     "exception": false,
     "start_time": "2022-08-04T18:54:09.855820",
     "status": "completed"
    },
    "tags": []
   },
   "source": [
    "**Q1: Is there any listening pattern across hours of the day, separately by gender?**"
   ]
  },
  {
   "cell_type": "code",
   "execution_count": 40,
   "id": "93a63b27",
   "metadata": {
    "execution": {
     "iopub.execute_input": "2022-08-04T18:54:09.943391Z",
     "iopub.status.busy": "2022-08-04T18:54:09.942425Z",
     "iopub.status.idle": "2022-08-04T18:54:14.774478Z",
     "shell.execute_reply": "2022-08-04T18:54:14.773214Z"
    },
    "papermill": {
     "duration": 4.866829,
     "end_time": "2022-08-04T18:54:14.777195",
     "exception": false,
     "start_time": "2022-08-04T18:54:09.910366",
     "status": "completed"
    },
    "tags": []
   },
   "outputs": [
    {
     "data": {
      "text/plain": [
       "Text(0, 0.5, 'Count')"
      ]
     },
     "execution_count": 40,
     "metadata": {},
     "output_type": "execute_result"
    },
    {
     "data": {
      "image/png": "[encoded data removed]",
      "text/plain": [
       "<Figure size 1200x800 with 1 Axes>"
      ]
     },
     "metadata": {},
     "output_type": "display_data"
    }
   ],
   "source": [
    "fig, ax = plt.subplots(figsize=(12,8))\n",
    "ax = sns.countplot(data=train_users, x=\"hod\", hue=\"gender\")\n",
    "ax.set_xlabel(\"Hour of the Day\")\n",
    "ax.set_ylabel(\"Count\")"
   ]
  },
  {
   "cell_type": "markdown",
   "id": "44694207",
   "metadata": {
    "papermill": {
     "duration": 0.026343,
     "end_time": "2022-08-04T18:54:14.830818",
     "exception": false,
     "start_time": "2022-08-04T18:54:14.804475",
     "status": "completed"
    },
    "tags": []
   },
   "source": [
    "Judging by the chart, there seem to be no evident difference. Well, beware!"
   ]
  }
 ],
 "metadata": {
  "kernelspec": {
   "display_name": "Python 3",
   "language": "python",
   "name": "python3"
  },
  "language_info": {
   "codemirror_mode": {
    "name": "ipython",
    "version": 3
   },
   "file_extension": ".py",
   "mimetype": "text/x-python",
   "name": "python",
   "nbconvert_exporter": "python",
   "pygments_lexer": "ipython3",
   "version": "3.10.0"
  },
  "papermill": {
   "default_parameters": {},
   "duration": 281.316746,
   "end_time": "2022-08-04T18:54:16.184906",
   "environment_variables": {},
   "exception": null,
   "input_path": "__notebook__.ipynb",
   "output_path": "__notebook__.ipynb",
   "parameters": {},
   "start_time": "2022-08-04T18:49:34.868160",
   "version": "2.3.4"
  }
 },
 "nbformat": 4,
 "nbformat_minor": 5
}
